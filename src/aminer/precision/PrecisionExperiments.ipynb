{
 "cells": [
  {
   "cell_type": "code",
   "execution_count": 10,
   "metadata": {},
   "outputs": [],
   "source": [
    "from utility import EnglishTextProcessor\n",
    "import numpy as np\n",
    "from tqdm import tqdm\n",
    "import json"
   ]
  },
  {
   "cell_type": "code",
   "execution_count": 3,
   "metadata": {},
   "outputs": [],
   "source": [
    "from gensim.models import FastText, Word2Vec"
   ]
  },
  {
   "cell_type": "code",
   "execution_count": 12,
   "metadata": {},
   "outputs": [],
   "source": [
    "etp = EnglishTextProcessor()\n",
    "author = load_json('author_filtered_citations.json')"
   ]
  },
  {
   "cell_type": "code",
   "execution_count": 11,
   "metadata": {},
   "outputs": [],
   "source": [
    "def load_json(filename):\n",
    "    d = None\n",
    "    with open(filename) as file:\n",
    "        d = json.load(file)\n",
    "    \n",
    "    return d"
   ]
  },
  {
   "cell_type": "code",
   "execution_count": 4,
   "metadata": {},
   "outputs": [],
   "source": [
    "import json\n",
    "import os\n",
    "import pickle"
   ]
  },
  {
   "cell_type": "code",
   "execution_count": 5,
   "metadata": {},
   "outputs": [],
   "source": [
    "vec = pickle.load(open('../support/models/vec.model', 'rb'))\n",
    "fasttext = Word2Vec.load('word2vec_150/word2vec_150.model')\n",
    "dimension = 150\n",
    "word_to_idx = list(vec.get_feature_names())\n",
    "\n",
    "idx_to_word = {}\n",
    "for i, word in enumerate(word_to_idx):\n",
    "    idx_to_word[word] = i"
   ]
  },
  {
   "cell_type": "code",
   "execution_count": 6,
   "metadata": {},
   "outputs": [
    {
     "name": "stdout",
     "output_type": "stream",
     "text": [
      "mkdir: cannot create directory ‘word2vec_150_abstract_dictionaries’: File exists\r\n"
     ]
    }
   ],
   "source": [
    "abstract_folder = '../support/abstract_dictionaries'\n",
    "!mkdir word2vec_150_abstract_dictionaries"
   ]
  },
  {
   "cell_type": "code",
   "execution_count": 7,
   "metadata": {},
   "outputs": [],
   "source": [
    "def iter_id_and_abstracts(abstract_folder):\n",
    "    json_file_names = sorted(os.listdir(abstract_folder), key=lambda x: int(x.split('_')[-1].split('.')[0]))\n",
    "    for file_name in json_file_names:\n",
    "        file_path = os.path.join(abstract_folder, file_name)\n",
    "        try:\n",
    "            id_to_abstract_dict = None\n",
    "            with open(file_path) as id_to_abstract_json_file:\n",
    "                id_to_abstract_dict = json.load(id_to_abstract_json_file)\n",
    "\n",
    "            for id in id_to_abstract_dict:\n",
    "                yield id, id_to_abstract_dict[id]\n",
    "\n",
    "        except ValueError:\n",
    "            continue"
   ]
  },
  {
   "cell_type": "code",
   "execution_count": 8,
   "metadata": {},
   "outputs": [],
   "source": [
    "def iter_batches(abstract_folder):\n",
    "    json_file_names = sorted(os.listdir(abstract_folder), key=lambda x: int(x.split('_')[-1].split('.')[0]))\n",
    "    for file_name in json_file_names:\n",
    "        file_path = os.path.join(abstract_folder, file_name)\n",
    "        try:\n",
    "            id_to_abstract_dict = None\n",
    "            with open(file_path) as id_to_abstract_json_file:\n",
    "                id_to_abstract_dict = json.load(id_to_abstract_json_file)\n",
    "\n",
    "            yield id_to_abstract_dict\n",
    "\n",
    "        except ValueError:\n",
    "            continue"
   ]
  },
  {
   "cell_type": "code",
   "execution_count": 9,
   "metadata": {},
   "outputs": [],
   "source": [
    "import scipy\n",
    "\n",
    "def compute_abstract_embedding(abstract):\n",
    "    tfidf_vec = vec.transform([abstract])\n",
    "    tfidf_vec = scipy.sparse.coo_matrix(tfidf_vec)\n",
    "    word_count = 0\n",
    "    sum_embedding = np.zeros(dimension)\n",
    "    for _, word_index, word_tfidf in zip(tfidf_vec.row, tfidf_vec.col, tfidf_vec.data):\n",
    "        word = word_to_idx[word_index]\n",
    "        if word in fasttext.wv.vocab:\n",
    "            word_count += 1\n",
    "            sum_embedding += word_tfidf*fasttext.wv[word]\n",
    "    \n",
    "    if word_count == 0:\n",
    "        return [0]*dimension\n",
    "    \n",
    "    return (sum_embedding / word_count).tolist()\n",
    "\n",
    "def dump_json(d, output_file_path):\n",
    "    with open(output_file_path, 'w') as output_file:\n",
    "        json.dump(d, output_file)"
   ]
  },
  {
   "cell_type": "code",
   "execution_count": 14,
   "metadata": {},
   "outputs": [],
   "source": [
    "relevant_ids = set(test_recs.keys())\n",
    "for id in test_recs:\n",
    "    relevant_ids = relevant_ids.union(test_recs[id])"
   ]
  },
  {
   "cell_type": "code",
   "execution_count": 13,
   "metadata": {},
   "outputs": [],
   "source": [
    "from aminer.recall.query_es import get_abstract_by_pids, get_references_by_pid\n",
    "\n",
    "test_recs = {}\n",
    "for id in author:\n",
    "    test_recs[id] = get_references_by_pid(id)"
   ]
  },
  {
   "cell_type": "code",
   "execution_count": 17,
   "metadata": {
    "scrolled": true
   },
   "outputs": [
    {
     "name": "stderr",
     "output_type": "stream",
     "text": [
      "411it [00:24, 16.71it/s]\n"
     ]
    }
   ],
   "source": [
    "id_to_abstract = {}\n",
    "for i, batch in tqdm(enumerate(iter_batches(abstract_folder))):\n",
    "    for id in batch:\n",
    "        if id in relevant_ids:\n",
    "            id_to_abstract[id] = batch[id]"
   ]
  },
  {
   "cell_type": "code",
   "execution_count": 20,
   "metadata": {},
   "outputs": [
    {
     "name": "stderr",
     "output_type": "stream",
     "text": [
      "100%|██████████| 2909/2909 [00:19<00:00, 148.93it/s]\n"
     ]
    }
   ],
   "source": [
    "id_to_processed_abstracts = {}\n",
    "for id in tqdm(id_to_abstract):\n",
    "    id_to_processed_abstracts[id] = etp(id_to_abstract[id])"
   ]
  },
  {
   "cell_type": "code",
   "execution_count": 27,
   "metadata": {},
   "outputs": [
    {
     "name": "stderr",
     "output_type": "stream",
     "text": [
      "100%|██████████| 96/96 [00:06<00:00, 15.77it/s]\n"
     ]
    }
   ],
   "source": [
    "id_ranked_candidates = {}\n",
    "for id in tqdm(author):\n",
    "    id_ranked_candidates[id] = {}\n",
    "    for cid in relevant_ids:\n",
    "        id_ranked_candidates[id][cid] = len(set(id_to_processed_abstracts[id].split()).intersection(id_to_processed_abstracts[cid].split()))"
   ]
  },
  {
   "cell_type": "code",
   "execution_count": 33,
   "metadata": {},
   "outputs": [
    {
     "data": {
      "text/plain": [
       "{5: 0.10004882069107601,\n",
       " 10: 0.1841244780565238,\n",
       " 20: 0.28427979002187265,\n",
       " 100: 0.5294365110339784,\n",
       " 200: 0.636117073167133,\n",
       " 500: 0.7639334480815777}"
      ]
     },
     "execution_count": 33,
     "metadata": {},
     "output_type": "execute_result"
    }
   ],
   "source": [
    "o = {5:0, 10:0, 20:0, 100:0, 200:0, 500:0}\n",
    "for id in author:\n",
    "    top_candidates = sorted(id_ranked_candidates[id], reverse=True, key=lambda x: id_ranked_candidates[id][x])\n",
    "    for k in o:\n",
    "        o[k] += len(set(top_candidates[:k]).intersection(test_recs[id])) / len(test_recs[id])\n",
    "\n",
    "for k in o:\n",
    "    o[k] /= len(author)\n",
    "\n",
    "o"
   ]
  },
  {
   "cell_type": "code",
   "execution_count": 43,
   "metadata": {},
   "outputs": [],
   "source": [
    "def get_word_scores(abstract):\n",
    "    tfidf_vec = vec.transform([abstract])\n",
    "    tfidf_vec = scipy.sparse.coo_matrix(tfidf_vec)\n",
    "    word_scores = {}\n",
    "    for _, word_index, word_tfidf in zip(tfidf_vec.row, tfidf_vec.col, tfidf_vec.data):\n",
    "        word = word_to_idx[word_index]\n",
    "        word_scores[word] = word_tfidf\n",
    "    \n",
    "    return word_scores\n",
    "\n",
    "relevant_word_scores = {id:get_word_scores(id_to_processed_abstracts[id]) for id in relevant_ids}"
   ]
  },
  {
   "cell_type": "code",
   "execution_count": 48,
   "metadata": {},
   "outputs": [
    {
     "name": "stderr",
     "output_type": "stream",
     "text": [
      "100%|██████████| 96/96 [00:05<00:00, 18.84it/s]\n"
     ]
    }
   ],
   "source": [
    "id_word_ranked_candidates = {}\n",
    "for id in tqdm(author):\n",
    "    id_word_ranked_candidates[id] = {}\n",
    "    word_scores = relevant_word_scores[id]\n",
    "    for cid in relevant_ids:\n",
    "        cid_word_scores = relevant_word_scores[cid]\n",
    "        id_word_ranked_candidates[id][cid] = 0\n",
    "        for word in id_to_processed_abstracts[cid].split():\n",
    "            if word in word_scores:\n",
    "                id_word_ranked_candidates[id][cid] += cid_word_scores[word]"
   ]
  },
  {
   "cell_type": "code",
   "execution_count": 45,
   "metadata": {},
   "outputs": [
    {
     "data": {
      "text/plain": [
       "{5: 0.10430489749156723,\n",
       " 10: 0.20319923072790705,\n",
       " 20: 0.3353315310665032,\n",
       " 100: 0.6437471794526587,\n",
       " 200: 0.744752744417582,\n",
       " 500: 0.8529969670368599}"
      ]
     },
     "execution_count": 45,
     "metadata": {},
     "output_type": "execute_result"
    }
   ],
   "source": [
    "o = {5:0, 10:0, 20:0, 100:0, 200:0, 500:0}\n",
    "for id in author:\n",
    "    top_candidates = sorted(id_word_ranked_candidates[id], reverse=True, key=lambda x: id_word_ranked_candidates[id][x])\n",
    "    for k in o:\n",
    "        o[k] += len(set(top_candidates[:k]).intersection(test_recs[id])) / len(test_recs[id])\n",
    "\n",
    "for k in o:\n",
    "    o[k] /= len(author)\n",
    "\n",
    "o"
   ]
  },
  {
   "cell_type": "code",
   "execution_count": 47,
   "metadata": {},
   "outputs": [
    {
     "data": {
      "text/plain": [
       "{5: 0.08491765998206108,\n",
       " 10: 0.16507621052658253,\n",
       " 20: 0.2922620044607936,\n",
       " 100: 0.6195310976773454,\n",
       " 200: 0.7350883294516697,\n",
       " 500: 0.8674783492212949}"
      ]
     },
     "execution_count": 47,
     "metadata": {},
     "output_type": "execute_result"
    }
   ],
   "source": [
    "o = {5:0, 10:0, 20:0, 100:0, 200:0, 500:0}\n",
    "for id in author:\n",
    "    top_candidates = sorted(id_word_ranked_candidates[id], reverse=True, key=lambda x: id_word_ranked_candidates[id][x])\n",
    "    for k in o:\n",
    "        o[k] += len(set(top_candidates[:k]).intersection(test_recs[id])) / len(test_recs[id])\n",
    "\n",
    "for k in o:\n",
    "    o[k] /= len(author)\n",
    "\n",
    "o"
   ]
  },
  {
   "cell_type": "code",
   "execution_count": 49,
   "metadata": {},
   "outputs": [
    {
     "data": {
      "text/plain": [
       "{5: 0.06481638419128384,\n",
       " 10: 0.13039235099731436,\n",
       " 20: 0.22343254824642367,\n",
       " 100: 0.5277164798782078,\n",
       " 200: 0.6719524684163808,\n",
       " 500: 0.8190717875210481}"
      ]
     },
     "execution_count": 49,
     "metadata": {},
     "output_type": "execute_result"
    }
   ],
   "source": [
    "o = {5:0, 10:0, 20:0, 100:0, 200:0, 500:0}\n",
    "for id in author:\n",
    "    top_candidates = sorted(id_word_ranked_candidates[id], reverse=True, key=lambda x: id_word_ranked_candidates[id][x])\n",
    "    for k in o:\n",
    "        o[k] += len(set(top_candidates[:k]).intersection(test_recs[id])) / len(test_recs[id])\n",
    "\n",
    "for k in o:\n",
    "    o[k] /= len(author)\n",
    "\n",
    "o"
   ]
  },
  {
   "cell_type": "code",
   "execution_count": null,
   "metadata": {},
   "outputs": [],
   "source": []
  },
  {
   "cell_type": "code",
   "execution_count": null,
   "metadata": {},
   "outputs": [],
   "source": []
  },
  {
   "cell_type": "code",
   "execution_count": null,
   "metadata": {},
   "outputs": [],
   "source": []
  },
  {
   "cell_type": "code",
   "execution_count": 50,
   "metadata": {},
   "outputs": [],
   "source": [
    "both = load_json('fos_author_filtered.json')"
   ]
  },
  {
   "cell_type": "code",
   "execution_count": 51,
   "metadata": {},
   "outputs": [],
   "source": [
    "both_relevant_ids = set()\n",
    "for id in both:\n",
    "    both_relevant_ids.add(id)\n",
    "    both_relevant_ids = both_relevant_ids.union(both[id])"
   ]
  },
  {
   "cell_type": "code",
   "execution_count": 52,
   "metadata": {},
   "outputs": [
    {
     "data": {
      "text/plain": [
       "2243938"
      ]
     },
     "execution_count": 52,
     "metadata": {},
     "output_type": "execute_result"
    }
   ],
   "source": [
    "len(both_relevant_ids)"
   ]
  },
  {
   "cell_type": "code",
   "execution_count": 58,
   "metadata": {},
   "outputs": [
    {
     "name": "stderr",
     "output_type": "stream",
     "text": [
      "411it [00:14, 28.98it/s]\n"
     ]
    }
   ],
   "source": [
    "both_id_to_abstract = {}\n",
    "for i, batch in tqdm(enumerate(iter_batches(abstract_folder))):\n",
    "    for id in batch:\n",
    "        if id in both_relevant_ids:\n",
    "            both_id_to_abstract[id] = batch[id]"
   ]
  },
  {
   "cell_type": "code",
   "execution_count": 1,
   "metadata": {},
   "outputs": [
    {
     "name": "stdout",
     "output_type": "stream",
     "text": [
      "             total       used       free     shared    buffers     cached\r\n",
      "Mem:         31144      24029       7115          0         51      23057\r\n",
      "-/+ buffers/cache:        920      30224\r\n",
      "Swap:            0          0          0\r\n"
     ]
    }
   ],
   "source": [
    "!free -m"
   ]
  },
  {
   "cell_type": "code",
   "execution_count": 60,
   "metadata": {
    "scrolled": true
   },
   "outputs": [
    {
     "name": "stderr",
     "output_type": "stream",
     "text": [
      "\n",
      "  0%|          | 0/2243938 [00:00<?, ?it/s]\u001b[A\n",
      "  2%|▏         | 36692/2243938 [00:00<00:06, 366916.85it/s]\u001b[A\n",
      "  3%|▎         | 77663/2243938 [00:00<00:05, 378785.41it/s]\u001b[A\n",
      "  5%|▌         | 119400/2243938 [00:00<00:05, 389588.63it/s]\u001b[A\n",
      "  7%|▋         | 161359/2243938 [00:00<00:05, 398128.52it/s]\u001b[A\n",
      "  9%|▉         | 203691/2243938 [00:00<00:05, 405365.26it/s]\u001b[A\n",
      " 11%|█         | 245859/2243938 [00:00<00:04, 410124.83it/s]\u001b[A\n",
      " 13%|█▎        | 288337/2243938 [00:00<00:04, 414412.18it/s]\u001b[A\n",
      " 15%|█▍        | 330833/2243938 [00:00<00:04, 417519.20it/s]\u001b[A\n",
      " 17%|█▋        | 373312/2243938 [00:00<00:04, 419669.54it/s]\u001b[A\n",
      " 19%|█▊        | 415827/2243938 [00:01<00:04, 421297.41it/s]\u001b[A\n",
      " 20%|██        | 458716/2243938 [00:01<00:04, 423544.84it/s]\u001b[A\n",
      " 22%|██▏       | 501225/2243938 [00:01<00:04, 424005.81it/s]\u001b[A\n",
      " 24%|██▍       | 543945/2243938 [00:01<00:04, 424958.56it/s]\u001b[A\n",
      " 26%|██▌       | 586847/2243938 [00:01<00:03, 426168.11it/s]\u001b[A\n",
      " 28%|██▊       | 629794/2243938 [00:01<00:03, 427147.07it/s]\u001b[A\n",
      " 30%|██▉       | 672515/2243938 [00:01<00:03, 427164.24it/s]\u001b[A\n",
      " 32%|███▏      | 715395/2243938 [00:01<00:03, 427652.25it/s]\u001b[A\n",
      " 34%|███▍      | 758079/2243938 [00:01<00:03, 427137.02it/s]\u001b[A\n",
      " 36%|███▌      | 801070/2243938 [00:01<00:03, 427962.53it/s]\u001b[A\n",
      " 38%|███▊      | 843827/2243938 [00:02<00:03, 427311.45it/s]\u001b[A\n",
      " 40%|███▉      | 886531/2243938 [00:02<00:03, 426625.64it/s]\u001b[A\n",
      " 41%|████▏     | 929175/2243938 [00:02<00:03, 426175.79it/s]\u001b[A\n",
      " 43%|████▎     | 971780/2243938 [00:02<00:02, 425977.57it/s]\u001b[A\n",
      " 45%|████▌     | 1014369/2243938 [00:02<00:02, 425891.09it/s]\u001b[A\n",
      " 47%|████▋     | 1056952/2243938 [00:02<00:02, 425482.70it/s]\u001b[A\n",
      " 49%|████▉     | 1099496/2243938 [00:02<00:02, 424880.10it/s]\u001b[A\n",
      " 51%|█████     | 1141982/2243938 [00:02<00:02, 424732.32it/s]\u001b[A\n",
      " 53%|█████▎    | 1184454/2243938 [00:02<00:02, 423126.21it/s]\u001b[A\n",
      " 55%|█████▍    | 1226767/2243938 [00:02<00:02, 422515.81it/s]\u001b[A\n",
      " 57%|█████▋    | 1269019/2243938 [00:03<00:02, 422139.16it/s]\u001b[A\n",
      " 58%|█████▊    | 1311234/2243938 [00:03<00:02, 421595.23it/s]\u001b[A\n",
      " 60%|██████    | 1353677/2243938 [00:03<00:02, 422441.20it/s]\u001b[A\n",
      " 62%|██████▏   | 1396230/2243938 [00:03<00:02, 423361.43it/s]\u001b[A\n",
      " 64%|██████▍   | 1438712/2243938 [00:03<00:01, 423797.16it/s]\u001b[A\n",
      " 66%|██████▌   | 1481093/2243938 [00:03<00:01, 423693.56it/s]\u001b[A\n",
      " 68%|██████▊   | 1523536/2243938 [00:03<00:01, 423913.43it/s]\u001b[A\n",
      " 70%|██████▉   | 1565960/2243938 [00:03<00:01, 424011.17it/s]\u001b[A\n",
      " 72%|███████▏  | 1608415/2243938 [00:03<00:01, 424171.28it/s]\u001b[A\n",
      " 74%|███████▎  | 1650833/2243938 [00:03<00:01, 423192.71it/s]\u001b[A\n",
      " 75%|███████▌  | 1693153/2243938 [00:04<00:01, 422878.64it/s]\u001b[A\n",
      " 77%|███████▋  | 1735489/2243938 [00:04<00:01, 423022.45it/s]\u001b[A\n",
      " 79%|███████▉  | 1777792/2243938 [00:04<00:01, 422627.33it/s]\u001b[A\n",
      " 81%|████████  | 1820056/2243938 [00:04<00:01, 422168.36it/s]\u001b[A\n",
      " 83%|████████▎ | 1862464/2243938 [00:04<00:00, 422738.35it/s]\u001b[A\n",
      " 85%|████████▍ | 1904830/2243938 [00:04<00:00, 423003.97it/s]\u001b[A\n",
      " 87%|████████▋ | 1947131/2243938 [00:04<00:00, 422723.20it/s]\u001b[A\n",
      " 89%|████████▊ | 1989436/2243938 [00:04<00:00, 422818.59it/s]\u001b[A\n",
      " 91%|█████████ | 2031719/2243938 [00:04<00:00, 421527.52it/s]\u001b[A\n",
      " 92%|█████████▏| 2073873/2243938 [00:04<00:00, 421307.79it/s]\u001b[A\n",
      " 94%|█████████▍| 2116005/2243938 [00:05<00:00, 420596.21it/s]\u001b[A\n",
      " 96%|█████████▌| 2158066/2243938 [00:05<00:00, 419382.03it/s]\u001b[A\n",
      " 98%|█████████▊| 2200163/2243938 [00:05<00:00, 419856.68it/s]\u001b[A\n",
      "100%|██████████| 2243938/2243938 [00:05<00:00, 422116.31it/s]\u001b[A\n"
     ]
    }
   ],
   "source": [
    "for id in tqdm(both_id_to_abstract):\n",
    "    both_id_to_abstract[id] = both_id_to_abstract[id].lower()"
   ]
  },
  {
   "cell_type": "code",
   "execution_count": 63,
   "metadata": {
    "scrolled": true
   },
   "outputs": [
    {
     "name": "stderr",
     "output_type": "stream",
     "text": [
      "\n",
      "  0%|          | 0/96 [00:00<?, ?it/s]\u001b[A\n",
      "  1%|          | 1/96 [00:00<00:28,  3.39it/s]\u001b[A\n",
      "  2%|▏         | 2/96 [00:00<00:24,  3.84it/s]\u001b[A\n",
      "  3%|▎         | 3/96 [00:01<00:38,  2.40it/s]\u001b[A\n",
      "  4%|▍         | 4/96 [00:01<00:33,  2.75it/s]\u001b[A\n",
      "  5%|▌         | 5/96 [00:01<00:32,  2.78it/s]\u001b[A\n",
      "  6%|▋         | 6/96 [00:02<00:30,  2.92it/s]\u001b[A\n",
      "  8%|▊         | 8/96 [00:02<00:27,  3.21it/s]\u001b[A\n",
      "  9%|▉         | 9/96 [00:04<01:04,  1.35it/s]\u001b[A\n",
      " 10%|█         | 10/96 [00:04<00:59,  1.45it/s]\u001b[A\n",
      " 11%|█▏        | 11/96 [00:07<01:44,  1.23s/it]\u001b[A\n",
      " 12%|█▎        | 12/96 [00:07<01:16,  1.10it/s]\u001b[A\n",
      " 14%|█▎        | 13/96 [00:10<02:06,  1.52s/it]\u001b[A\n",
      " 15%|█▍        | 14/96 [00:11<01:49,  1.33s/it]\u001b[A\n",
      " 16%|█▌        | 15/96 [00:12<01:30,  1.11s/it]\u001b[A\n",
      " 17%|█▋        | 16/96 [00:12<01:09,  1.15it/s]\u001b[A\n",
      " 18%|█▊        | 17/96 [00:12<00:55,  1.43it/s]\u001b[A\n",
      " 19%|█▉        | 18/96 [00:12<00:45,  1.73it/s]\u001b[A\n",
      " 20%|█▉        | 19/96 [00:15<01:19,  1.03s/it]\u001b[A\n",
      " 21%|██        | 20/96 [00:16<01:36,  1.27s/it]\u001b[A\n",
      " 22%|██▏       | 21/96 [00:18<01:40,  1.35s/it]\u001b[A\n",
      " 23%|██▎       | 22/96 [00:19<01:29,  1.21s/it]\u001b[A\n",
      " 24%|██▍       | 23/96 [00:19<01:06,  1.10it/s]\u001b[A\n",
      " 25%|██▌       | 24/96 [00:19<00:48,  1.48it/s]\u001b[A\n",
      " 26%|██▌       | 25/96 [00:19<00:36,  1.96it/s]\u001b[A\n",
      " 27%|██▋       | 26/96 [00:20<00:32,  2.15it/s]\u001b[A\n",
      " 28%|██▊       | 27/96 [00:21<00:46,  1.48it/s]\u001b[A\n",
      " 29%|██▉       | 28/96 [00:21<00:40,  1.69it/s]\u001b[A\n",
      " 30%|███       | 29/96 [00:22<00:47,  1.42it/s]\u001b[A\n",
      " 31%|███▏      | 30/96 [00:23<00:44,  1.50it/s]\u001b[A\n",
      " 32%|███▏      | 31/96 [00:23<00:32,  1.99it/s]\u001b[A\n",
      " 34%|███▍      | 33/96 [00:23<00:23,  2.67it/s]\u001b[A\n",
      " 35%|███▌      | 34/96 [00:24<00:35,  1.77it/s]\u001b[A\n",
      " 36%|███▋      | 35/96 [00:24<00:32,  1.90it/s]\u001b[A\n",
      " 38%|███▊      | 36/96 [00:25<00:27,  2.17it/s]\u001b[A\n",
      " 39%|███▊      | 37/96 [00:25<00:25,  2.27it/s]\u001b[A\n",
      " 41%|████      | 39/96 [00:28<00:40,  1.40it/s]\u001b[A\n",
      " 42%|████▏     | 40/96 [00:29<00:54,  1.02it/s]\u001b[A\n",
      " 43%|████▎     | 41/96 [00:32<01:16,  1.39s/it]\u001b[A\n",
      " 44%|████▍     | 42/96 [00:32<00:54,  1.01s/it]\u001b[A\n",
      " 45%|████▍     | 43/96 [00:32<00:41,  1.27it/s]\u001b[A\n",
      " 46%|████▌     | 44/96 [00:32<00:30,  1.69it/s]\u001b[A\n",
      " 47%|████▋     | 45/96 [00:33<00:27,  1.87it/s]\u001b[A\n",
      " 49%|████▉     | 47/96 [00:33<00:23,  2.10it/s]\u001b[A\n",
      " 50%|█████     | 48/96 [00:36<01:00,  1.26s/it]\u001b[A\n",
      " 51%|█████     | 49/96 [00:37<00:49,  1.05s/it]\u001b[A\n",
      " 52%|█████▏    | 50/96 [00:37<00:35,  1.28it/s]\u001b[A\n",
      " 54%|█████▍    | 52/96 [00:38<00:31,  1.39it/s]\u001b[A\n",
      " 55%|█████▌    | 53/96 [00:39<00:28,  1.49it/s]\u001b[A\n",
      " 56%|█████▋    | 54/96 [00:40<00:30,  1.36it/s]\u001b[A\n",
      " 57%|█████▋    | 55/96 [00:41<00:36,  1.12it/s]\u001b[A\n",
      " 58%|█████▊    | 56/96 [00:41<00:26,  1.49it/s]\u001b[A\n",
      " 59%|█████▉    | 57/96 [00:42<00:28,  1.35it/s]\u001b[A\n",
      " 61%|██████▏   | 59/96 [00:43<00:21,  1.70it/s]\u001b[A\n",
      " 62%|██████▎   | 60/96 [00:44<00:28,  1.27it/s]\u001b[A\n",
      " 64%|██████▎   | 61/96 [00:44<00:25,  1.36it/s]\u001b[A\n",
      " 65%|██████▍   | 62/96 [00:45<00:24,  1.36it/s]\u001b[A\n",
      " 66%|██████▌   | 63/96 [00:47<00:33,  1.01s/it]\u001b[A\n",
      " 67%|██████▋   | 64/96 [00:48<00:30,  1.05it/s]\u001b[A\n",
      " 68%|██████▊   | 65/96 [00:49<00:30,  1.01it/s]\u001b[A\n",
      " 69%|██████▉   | 66/96 [00:50<00:31,  1.06s/it]\u001b[A\n",
      " 70%|██████▉   | 67/96 [00:50<00:24,  1.17it/s]\u001b[A\n",
      " 71%|███████   | 68/96 [00:53<00:39,  1.43s/it]\u001b[A\n",
      " 72%|███████▏  | 69/96 [00:55<00:40,  1.49s/it]\u001b[A\n",
      " 73%|███████▎  | 70/96 [00:55<00:30,  1.18s/it]\u001b[A\n",
      " 74%|███████▍  | 71/96 [00:55<00:22,  1.11it/s]\u001b[A\n",
      " 75%|███████▌  | 72/96 [00:56<00:16,  1.45it/s]\u001b[A\n",
      " 76%|███████▌  | 73/96 [00:57<00:20,  1.14it/s]\u001b[A\n",
      " 78%|███████▊  | 75/96 [00:58<00:14,  1.43it/s]\u001b[A\n",
      " 79%|███████▉  | 76/96 [00:58<00:13,  1.52it/s]\u001b[A\n",
      " 80%|████████  | 77/96 [00:58<00:10,  1.76it/s]\u001b[A\n",
      " 81%|████████▏ | 78/96 [00:59<00:09,  1.99it/s]\u001b[A\n",
      " 82%|████████▏ | 79/96 [00:59<00:09,  1.89it/s]\u001b[A\n",
      " 83%|████████▎ | 80/96 [01:00<00:07,  2.05it/s]\u001b[A\n",
      " 84%|████████▍ | 81/96 [01:00<00:07,  2.04it/s]\u001b[A\n",
      " 85%|████████▌ | 82/96 [01:01<00:09,  1.55it/s]\u001b[A\n",
      " 86%|████████▋ | 83/96 [01:04<00:15,  1.22s/it]\u001b[A\n",
      " 88%|████████▊ | 84/96 [01:04<00:11,  1.09it/s]\u001b[A\n",
      " 89%|████████▊ | 85/96 [01:05<00:09,  1.17it/s]\u001b[A\n",
      " 90%|████████▉ | 86/96 [01:05<00:06,  1.55it/s]\u001b[A\n",
      " 91%|█████████ | 87/96 [01:06<00:06,  1.45it/s]\u001b[A\n",
      " 92%|█████████▏| 88/96 [01:06<00:05,  1.53it/s]\u001b[A\n",
      " 93%|█████████▎| 89/96 [01:08<00:07,  1.07s/it]\u001b[A\n",
      " 95%|█████████▍| 91/96 [01:09<00:04,  1.10it/s]\u001b[A\n",
      " 96%|█████████▌| 92/96 [01:10<00:03,  1.16it/s]\u001b[A\n",
      " 97%|█████████▋| 93/96 [01:11<00:02,  1.18it/s]\u001b[A\n",
      " 98%|█████████▊| 94/96 [01:12<00:01,  1.03it/s]\u001b[A\n",
      " 99%|█████████▉| 95/96 [01:15<00:01,  1.55s/it]\u001b[A\n",
      "100%|██████████| 96/96 [01:15<00:00,  1.26it/s]\u001b[A\n"
     ]
    }
   ],
   "source": [
    "both_id_word_ranked_candidates = {}\n",
    "for id in tqdm(author):\n",
    "    both_id_word_ranked_candidates[id] = {}\n",
    "    word_scores = relevant_word_scores[id]\n",
    "    for cid in both[id]:\n",
    "        both_id_word_ranked_candidates[id][cid] = 0\n",
    "        for word in both_id_to_abstract[cid].split():\n",
    "            if word in word_scores:\n",
    "                both_id_word_ranked_candidates[id][cid] += word_scores[word]"
   ]
  },
  {
   "cell_type": "code",
   "execution_count": 74,
   "metadata": {},
   "outputs": [
    {
     "name": "stderr",
     "output_type": "stream",
     "text": [
      "\n",
      "  0%|          | 0/101 [00:00<?, ?it/s]\u001b[A\n",
      "  9%|▉         | 9/101 [00:00<00:01, 65.47it/s]\u001b[A\n",
      " 13%|█▎        | 13/101 [00:00<00:02, 36.76it/s]\u001b[A\n",
      " 17%|█▋        | 17/101 [00:00<00:02, 35.97it/s]\u001b[A\n",
      " 21%|██        | 21/101 [00:00<00:02, 27.91it/s]\u001b[A\n",
      " 27%|██▋       | 27/101 [00:00<00:02, 31.96it/s]\u001b[A\n",
      " 30%|██▉       | 30/101 [00:00<00:02, 29.09it/s]\u001b[A\n",
      " 38%|███▊      | 38/101 [00:01<00:01, 33.55it/s]\u001b[A\n",
      " 42%|████▏     | 42/101 [00:01<00:01, 30.38it/s]\u001b[A\n",
      " 47%|████▋     | 47/101 [00:01<00:01, 29.05it/s]\u001b[A\n",
      " 50%|█████     | 51/101 [00:01<00:01, 27.04it/s]\u001b[A\n",
      " 53%|█████▎    | 54/101 [00:01<00:01, 23.50it/s]\u001b[A\n",
      " 57%|█████▋    | 58/101 [00:01<00:01, 26.81it/s]\u001b[A\n",
      " 65%|██████▌   | 66/101 [00:01<00:01, 33.27it/s]\u001b[A\n",
      " 70%|███████   | 71/101 [00:02<00:00, 36.56it/s]\u001b[A\n",
      " 75%|███████▌  | 76/101 [00:02<00:00, 26.22it/s]\u001b[A\n",
      " 80%|████████  | 81/101 [00:02<00:00, 30.11it/s]\u001b[A\n",
      " 88%|████████▊ | 89/101 [00:02<00:00, 36.94it/s]\u001b[A\n",
      " 94%|█████████▍| 95/101 [00:02<00:00, 38.06it/s]\u001b[A\n",
      "100%|██████████| 101/101 [00:03<00:00, 33.00it/s]\u001b[A\n"
     ]
    },
    {
     "data": {
      "text/plain": [
       "{5: 0.00995764948887693,\n",
       " 10: 0.018193875250690678,\n",
       " 20: 0.0349544179698604,\n",
       " 100: 0.1124268393616563,\n",
       " 200: 0.16848297502077134,\n",
       " 500: 0.2533215779445238,\n",
       " 20000: 0.6507391763317253,\n",
       " 1000000: 0.6860917114441111}"
      ]
     },
     "execution_count": 74,
     "metadata": {},
     "output_type": "execute_result"
    }
   ],
   "source": [
    "o = {5:0, 10:0, 20:0, 100:0, 200:0, 500:0, 20000:0, 1000000:0}\n",
    "for id in tqdm(both):\n",
    "    if id in both_id_word_ranked_candidates:\n",
    "        top_candidates = sorted(both_id_word_ranked_candidates[id], reverse=True, key=lambda x: both_id_word_ranked_candidates[id][x])\n",
    "        for k in o:\n",
    "            o[k] += len(set(top_candidates[:k]).intersection(test_recs[id])) / len(test_recs[id])\n",
    "\n",
    "for k in o:\n",
    "    o[k] /= len(author)\n",
    "\n",
    "o"
   ]
  },
  {
   "cell_type": "code",
   "execution_count": 66,
   "metadata": {},
   "outputs": [
    {
     "data": {
      "text/plain": [
       "12355"
      ]
     },
     "execution_count": 66,
     "metadata": {},
     "output_type": "execute_result"
    }
   ],
   "source": [
    "len(both_id_word_ranked_candidates[list(both_id_word_ranked_candidates.keys())[0]])"
   ]
  },
  {
   "cell_type": "code",
   "execution_count": 69,
   "metadata": {},
   "outputs": [
    {
     "data": {
      "text/plain": [
       "96"
      ]
     },
     "execution_count": 69,
     "metadata": {},
     "output_type": "execute_result"
    }
   ],
   "source": [
    "len(set(both.keys()).intersection(both_id_word_ranked_candidates.keys()))"
   ]
  },
  {
   "cell_type": "code",
   "execution_count": 70,
   "metadata": {},
   "outputs": [
    {
     "name": "stdout",
     "output_type": "stream",
     "text": [
      "1551676982\n",
      "2163666621\n",
      "2004111797\n",
      "1992078202\n",
      "1575030031\n"
     ]
    }
   ],
   "source": [
    "for id in both:\n",
    "    if id not in both_id_word_ranked_candidates:\n",
    "        print(id)"
   ]
  },
  {
   "cell_type": "code",
   "execution_count": 75,
   "metadata": {
    "scrolled": true
   },
   "outputs": [
    {
     "name": "stderr",
     "output_type": "stream",
     "text": [
      "\n",
      "  0%|          | 0/101 [00:00<?, ?it/s]\u001b[A\n",
      "  9%|▉         | 9/101 [00:00<00:01, 71.99it/s]\u001b[A\n",
      " 13%|█▎        | 13/101 [00:00<00:02, 40.77it/s]\u001b[A\n",
      " 17%|█▋        | 17/101 [00:00<00:02, 39.93it/s]\u001b[A\n",
      " 21%|██        | 21/101 [00:00<00:02, 30.91it/s]\u001b[A\n",
      " 27%|██▋       | 27/101 [00:00<00:02, 35.41it/s]\u001b[A\n",
      " 31%|███       | 31/101 [00:00<00:01, 35.06it/s]\u001b[A\n",
      " 38%|███▊      | 38/101 [00:00<00:01, 38.84it/s]\u001b[A\n",
      " 42%|████▏     | 42/101 [00:01<00:01, 34.69it/s]\u001b[A\n",
      " 47%|████▋     | 47/101 [00:01<00:01, 33.03it/s]\u001b[A\n",
      " 50%|█████     | 51/101 [00:01<00:01, 30.60it/s]\u001b[A\n",
      " 54%|█████▍    | 55/101 [00:01<00:01, 26.31it/s]\u001b[A\n",
      " 60%|██████    | 61/101 [00:01<00:01, 31.57it/s]\u001b[A\n",
      " 68%|██████▊   | 69/101 [00:01<00:00, 38.56it/s]\u001b[A\n",
      " 74%|███████▍  | 75/101 [00:02<00:00, 30.22it/s]\u001b[A\n",
      " 80%|████████  | 81/101 [00:02<00:00, 35.20it/s]\u001b[A\n",
      " 89%|████████▉ | 90/101 [00:02<00:00, 42.09it/s]\u001b[A\n",
      "100%|██████████| 101/101 [00:02<00:00, 36.79it/s][A\n"
     ]
    }
   ],
   "source": [
    "c = {}\n",
    "for id in tqdm(both):\n",
    "    if id in both_id_word_ranked_candidates:\n",
    "        top_candidates = sorted(both_id_word_ranked_candidates[id], reverse=True, key=lambda x: both_id_word_ranked_candidates[id][x])\n",
    "        c[id] = top_candidates[:20000]"
   ]
  },
  {
   "cell_type": "code",
   "execution_count": 77,
   "metadata": {},
   "outputs": [],
   "source": [
    "dump_json(c, 'idf_filter.json')"
   ]
  },
  {
   "cell_type": "code",
   "execution_count": 90,
   "metadata": {
    "scrolled": true
   },
   "outputs": [
    {
     "name": "stderr",
     "output_type": "stream",
     "text": [
      "\n",
      "  0%|          | 0/96 [00:00<?, ?it/s]\u001b[A\n",
      "  5%|▌         | 5/96 [00:00<00:01, 45.67it/s]\u001b[A\n",
      " 10%|█         | 10/96 [00:00<00:01, 45.88it/s]\u001b[A\n",
      " 16%|█▌        | 15/96 [00:00<00:01, 46.37it/s]\u001b[A\n",
      " 21%|██        | 20/96 [00:00<00:01, 45.64it/s]\u001b[A\n",
      " 26%|██▌       | 25/96 [00:00<00:01, 46.45it/s]\u001b[A\n",
      " 31%|███▏      | 30/96 [00:00<00:01, 45.76it/s]\u001b[A\n",
      " 36%|███▋      | 35/96 [00:00<00:01, 45.89it/s]\u001b[A\n",
      " 42%|████▏     | 40/96 [00:00<00:01, 46.74it/s]\u001b[A\n",
      " 47%|████▋     | 45/96 [00:00<00:01, 46.90it/s]\u001b[A\n",
      " 52%|█████▏    | 50/96 [00:01<00:00, 47.64it/s]\u001b[A\n",
      " 57%|█████▋    | 55/96 [00:01<00:00, 48.06it/s]\u001b[A\n",
      " 62%|██████▎   | 60/96 [00:01<00:00, 41.02it/s]\u001b[A\n",
      " 69%|██████▉   | 66/96 [00:01<00:00, 42.90it/s]\u001b[A\n",
      " 75%|███████▌  | 72/96 [00:01<00:00, 44.32it/s]\u001b[A\n",
      " 81%|████████▏ | 78/96 [00:01<00:00, 45.53it/s]\u001b[A\n",
      " 86%|████████▋ | 83/96 [00:01<00:00, 46.69it/s]\u001b[A\n",
      " 93%|█████████▎| 89/96 [00:01<00:00, 48.19it/s]\u001b[A\n",
      "100%|██████████| 96/96 [00:02<00:00, 46.39it/s]\u001b[A"
     ]
    },
    {
     "name": "stdout",
     "output_type": "stream",
     "text": [
      "Overall Recall:  0.2533215779445238\n"
     ]
    },
    {
     "name": "stderr",
     "output_type": "stream",
     "text": [
      "\n"
     ]
    }
   ],
   "source": [
    "from aminer.precision.metrics import recall, precision\n",
    "\n",
    "ids = list(both_id_word_ranked_candidates.keys())\n",
    "recommendations = c\n",
    "rec = 0\n",
    "for pid, recs in tqdm(recommendations.items()):\n",
    "    pred_reference_list = recs[:500]\n",
    "    true_reference_list = get_references_by_pid(pid)\n",
    "    example_rec = len(set(pred_reference_list).intersection(test_recs[pid])) / len(test_recs[pid])\n",
    "    rec += example_rec\n",
    "\n",
    "print('Overall Recall: ', rec / len(recommendations))"
   ]
  },
  {
   "cell_type": "code",
   "execution_count": 4,
   "metadata": {
    "scrolled": true
   },
   "outputs": [
    {
     "name": "stdout",
     "output_type": "stream",
     "text": [
      "0 Finding recommendations for:  1836026262\n",
      "100%|█████████████████████████████████████████| 411/411 [03:32<00:00,  1.94it/s]\n",
      "1 Finding recommendations for:  1988433392\n",
      "  7%|██▉                                       | 29/411 [00:14<03:01,  2.10it/s]/home/ec2-user/anaconda3/envs/py35/lib/python3.5/site-packages/scipy/spatial/distance.py:698: RuntimeWarning: invalid value encountered in double_scalars\n",
      "  dist = 1.0 - uv / np.sqrt(uu * vv)\n",
      "100%|█████████████████████████████████████████| 411/411 [03:31<00:00,  1.94it/s]\n",
      "2 Finding recommendations for:  1526540304\n",
      "100%|█████████████████████████████████████████| 411/411 [03:32<00:00,  1.93it/s]\n",
      "3 Finding recommendations for:  1562794883\n",
      "100%|█████████████████████████████████████████| 411/411 [03:32<00:00,  1.93it/s]\n",
      "4 Finding recommendations for:  1836578358\n",
      "100%|█████████████████████████████████████████| 411/411 [03:34<00:00,  1.92it/s]\n",
      "5 Finding recommendations for:  1773709311\n",
      "100%|█████████████████████████████████████████| 411/411 [03:32<00:00,  1.93it/s]\n",
      "6 Finding recommendations for:  1557199071\n",
      "100%|█████████████████████████████████████████| 411/411 [03:34<00:00,  1.91it/s]\n",
      "7 Finding recommendations for:  2149532911\n",
      "100%|█████████████████████████████████████████| 411/411 [03:33<00:00,  1.92it/s]\n",
      "8 Finding recommendations for:  2168527987\n",
      "100%|█████████████████████████████████████████| 411/411 [03:35<00:00,  1.91it/s]\n",
      "9 Finding recommendations for:  1448796589\n",
      "100%|█████████████████████████████████████████| 411/411 [03:35<00:00,  1.91it/s]\n",
      "10 Finding recommendations for:  1773050855\n",
      "100%|█████████████████████████████████████████| 411/411 [03:33<00:00,  1.93it/s]\n",
      "11 Finding recommendations for:  2035622896\n",
      "100%|█████████████████████████████████████████| 411/411 [03:33<00:00,  1.92it/s]\n",
      "12 Finding recommendations for:  1992078202\n",
      "100%|█████████████████████████████████████████| 411/411 [06:13<00:00,  1.10it/s]\n",
      "13 Finding recommendations for:  1882496656\n",
      "100%|█████████████████████████████████████████| 411/411 [03:35<00:00,  1.91it/s]\n",
      "14 Finding recommendations for:  2104468092\n",
      "100%|█████████████████████████████████████████| 411/411 [03:36<00:00,  1.90it/s]\n",
      "15 Finding recommendations for:  2138718066\n",
      "100%|█████████████████████████████████████████| 411/411 [03:34<00:00,  1.92it/s]\n",
      "16 Finding recommendations for:  1781204372\n",
      "100%|█████████████████████████████████████████| 411/411 [03:36<00:00,  1.90it/s]\n",
      "17 Finding recommendations for:  1756034034\n",
      "100%|█████████████████████████████████████████| 411/411 [03:36<00:00,  1.90it/s]\n",
      "18 Finding recommendations for:  2007509694\n",
      "100%|█████████████████████████████████████████| 411/411 [03:35<00:00,  1.90it/s]\n",
      "19 Finding recommendations for:  1913603026\n",
      "100%|█████████████████████████████████████████| 411/411 [03:36<00:00,  1.89it/s]\n",
      "20 Finding recommendations for:  2121488442\n",
      "100%|█████████████████████████████████████████| 411/411 [03:37<00:00,  1.89it/s]\n",
      "21 Finding recommendations for:  2146769229\n",
      "100%|█████████████████████████████████████████| 411/411 [03:35<00:00,  1.91it/s]\n",
      "22 Finding recommendations for:  1845961848\n",
      "100%|█████████████████████████████████████████| 411/411 [03:37<00:00,  1.89it/s]\n",
      "23 Finding recommendations for:  1726917082\n",
      "100%|█████████████████████████████████████████| 411/411 [03:35<00:00,  1.91it/s]\n",
      "24 Finding recommendations for:  2146275320\n",
      "100%|█████████████████████████████████████████| 411/411 [03:36<00:00,  1.90it/s]\n",
      "25 Finding recommendations for:  1822639386\n",
      "100%|█████████████████████████████████████████| 411/411 [03:37<00:00,  1.89it/s]\n",
      "26 Finding recommendations for:  2155823647\n",
      "100%|█████████████████████████████████████████| 411/411 [03:36<00:00,  1.90it/s]\n",
      "27 Finding recommendations for:  1735605371\n",
      "100%|█████████████████████████████████████████| 411/411 [03:37<00:00,  1.89it/s]\n",
      "28 Finding recommendations for:  1984546211\n",
      "100%|█████████████████████████████████████████| 411/411 [03:36<00:00,  1.89it/s]\n",
      "29 Finding recommendations for:  1753495334\n",
      "100%|█████████████████████████████████████████| 411/411 [03:37<00:00,  1.89it/s]\n",
      "30 Finding recommendations for:  1611985086\n",
      "100%|█████████████████████████████████████████| 411/411 [03:38<00:00,  1.88it/s]\n",
      "31 Finding recommendations for:  2128718382\n",
      "100%|█████████████████████████████████████████| 411/411 [03:36<00:00,  1.90it/s]\n",
      "32 Finding recommendations for:  2135977390\n",
      "100%|█████████████████████████████████████████| 411/411 [03:38<00:00,  1.88it/s]\n",
      "33 Finding recommendations for:  1944441789\n",
      "100%|█████████████████████████████████████████| 411/411 [03:36<00:00,  1.90it/s]\n",
      "34 Finding recommendations for:  2076058259\n",
      "100%|█████████████████████████████████████████| 411/411 [03:38<00:00,  1.88it/s]\n",
      "35 Finding recommendations for:  1710109692\n",
      "100%|█████████████████████████████████████████| 411/411 [03:38<00:00,  1.88it/s]\n",
      "36 Finding recommendations for:  2141047785\n",
      "100%|█████████████████████████████████████████| 411/411 [03:37<00:00,  1.89it/s]\n",
      "37 Finding recommendations for:  2126342113\n",
      "100%|█████████████████████████████████████████| 411/411 [03:38<00:00,  1.88it/s]\n",
      "38 Finding recommendations for:  2133937084\n",
      "100%|█████████████████████████████████████████| 411/411 [03:37<00:00,  1.89it/s]\n",
      "39 Finding recommendations for:  2130706776\n",
      "100%|█████████████████████████████████████████| 411/411 [03:39<00:00,  1.88it/s]\n",
      "40 Finding recommendations for:  1566095866\n",
      "100%|█████████████████████████████████████████| 411/411 [03:38<00:00,  1.88it/s]\n",
      "41 Finding recommendations for:  1671637897\n",
      "100%|█████████████████████████████████████████| 411/411 [03:37<00:00,  1.89it/s]\n",
      "42 Finding recommendations for:  1594039573\n",
      "100%|█████████████████████████████████████████| 411/411 [03:39<00:00,  1.87it/s]\n",
      "43 Finding recommendations for:  2063214129\n",
      "100%|█████████████████████████████████████████| 411/411 [03:37<00:00,  1.89it/s]\n",
      "44 Finding recommendations for:  1422666401\n",
      "100%|█████████████████████████████████████████| 411/411 [03:39<00:00,  1.87it/s]\n",
      "45 Finding recommendations for:  1995174605\n",
      "100%|█████████████████████████████████████████| 411/411 [03:39<00:00,  1.87it/s]\n",
      "46 Finding recommendations for:  1139321046\n",
      "100%|█████████████████████████████████████████| 411/411 [03:36<00:00,  1.89it/s]\n",
      "47 Finding recommendations for:  1211177409\n",
      "100%|█████████████████████████████████████████| 411/411 [03:39<00:00,  1.87it/s]\n",
      "48 Finding recommendations for:  1908503869\n",
      "100%|█████████████████████████████████████████| 411/411 [03:38<00:00,  1.88it/s]\n",
      "49 Finding recommendations for:  2126751401\n",
      "100%|█████████████████████████████████████████| 411/411 [03:40<00:00,  1.87it/s]\n",
      "50 Finding recommendations for:  2144512494\n",
      "100%|█████████████████████████████████████████| 411/411 [03:40<00:00,  1.87it/s]\n",
      "51 Finding recommendations for:  1952757855\n",
      "100%|█████████████████████████████████████████| 411/411 [03:38<00:00,  1.88it/s]\n",
      "52 Finding recommendations for:  188777521\n",
      "100%|█████████████████████████████████████████| 411/411 [03:40<00:00,  1.87it/s]\n",
      "53 Finding recommendations for:  1541543614\n",
      "100%|█████████████████████████████████████████| 411/411 [03:40<00:00,  1.86it/s]\n",
      "54 Finding recommendations for:  2115674935\n",
      "100%|█████████████████████████████████████████| 411/411 [03:38<00:00,  1.88it/s]\n",
      "55 Finding recommendations for:  1773315453\n",
      "100%|█████████████████████████████████████████| 411/411 [03:40<00:00,  1.87it/s]\n",
      "56 Finding recommendations for:  1632803383\n",
      "100%|█████████████████████████████████████████| 411/411 [03:39<00:00,  1.87it/s]\n",
      "57 Finding recommendations for:  1970062667\n",
      "100%|█████████████████████████████████████████| 411/411 [03:39<00:00,  1.87it/s]\n",
      "58 Finding recommendations for:  1530735704\n",
      "100%|█████████████████████████████████████████| 411/411 [03:40<00:00,  1.86it/s]\n",
      "59 Finding recommendations for:  2128655289\n",
      "100%|█████████████████████████████████████████| 411/411 [03:39<00:00,  1.87it/s]\n",
      "60 Finding recommendations for:  2027307684\n",
      "100%|█████████████████████████████████████████| 411/411 [03:40<00:00,  1.86it/s]\n",
      "61 Finding recommendations for:  2125681554\n",
      "100%|█████████████████████████████████████████| 411/411 [03:40<00:00,  1.87it/s]\n",
      "62 Finding recommendations for:  2161876146\n",
      "100%|█████████████████████████████████████████| 411/411 [03:41<00:00,  1.86it/s]\n",
      "63 Finding recommendations for:  1861719428\n"
     ]
    },
    {
     "name": "stdout",
     "output_type": "stream",
     "text": [
      "100%|█████████████████████████████████████████| 411/411 [03:41<00:00,  1.86it/s]\n",
      "64 Finding recommendations for:  1575030031\n",
      "100%|█████████████████████████████████████████| 411/411 [06:18<00:00,  1.09it/s]\n",
      "65 Finding recommendations for:  1523661875\n",
      "100%|█████████████████████████████████████████| 411/411 [03:41<00:00,  1.86it/s]\n",
      "66 Finding recommendations for:  2163666621\n",
      "100%|█████████████████████████████████████████| 411/411 [06:20<00:00,  1.08it/s]\n",
      "67 Finding recommendations for:  1551676982\n",
      "100%|█████████████████████████████████████████| 411/411 [06:19<00:00,  1.08it/s]\n",
      "68 Finding recommendations for:  2009266105\n",
      "100%|█████████████████████████████████████████| 411/411 [03:40<00:00,  1.86it/s]\n",
      "69 Finding recommendations for:  2152197803\n",
      "100%|█████████████████████████████████████████| 411/411 [03:40<00:00,  1.87it/s]\n",
      "70 Finding recommendations for:  2105582967\n",
      "100%|█████████████████████████████████████████| 411/411 [03:41<00:00,  1.86it/s]\n",
      "71 Finding recommendations for:  1838714828\n",
      "100%|█████████████████████████████████████████| 411/411 [03:41<00:00,  1.86it/s]\n",
      "72 Finding recommendations for:  1047306120\n",
      "100%|█████████████████████████████████████████| 411/411 [03:40<00:00,  1.87it/s]\n",
      "73 Finding recommendations for:  1911585526\n",
      "100%|█████████████████████████████████████████| 411/411 [03:41<00:00,  1.85it/s]\n",
      "74 Finding recommendations for:  1074958431\n",
      "100%|█████████████████████████████████████████| 411/411 [03:41<00:00,  1.86it/s]\n",
      "75 Finding recommendations for:  2169622310\n",
      "100%|█████████████████████████████████████████| 411/411 [03:40<00:00,  1.86it/s]\n",
      "76 Finding recommendations for:  2004111797\n",
      "100%|█████████████████████████████████████████| 411/411 [06:19<00:00,  1.08it/s]\n",
      "77 Finding recommendations for:  1880114935\n",
      "100%|█████████████████████████████████████████| 411/411 [03:40<00:00,  1.86it/s]\n",
      "78 Finding recommendations for:  2103708578\n",
      "100%|█████████████████████████████████████████| 411/411 [03:41<00:00,  1.85it/s]\n",
      "79 Finding recommendations for:  1771626745\n",
      "100%|█████████████████████████████████████████| 411/411 [03:41<00:00,  1.85it/s]\n",
      "80 Finding recommendations for:  1972623331\n",
      "100%|█████████████████████████████████████████| 411/411 [03:40<00:00,  1.87it/s]\n",
      "81 Finding recommendations for:  1488304144\n",
      "100%|█████████████████████████████████████████| 411/411 [03:41<00:00,  1.86it/s]\n",
      "82 Finding recommendations for:  1043921384\n",
      "100%|█████████████████████████████████████████| 411/411 [03:41<00:00,  1.85it/s]\n",
      "83 Finding recommendations for:  1821105979\n",
      "100%|█████████████████████████████████████████| 411/411 [03:40<00:00,  1.86it/s]\n",
      "84 Finding recommendations for:  1020659046\n",
      "100%|█████████████████████████████████████████| 411/411 [03:40<00:00,  1.86it/s]\n",
      "85 Finding recommendations for:  2144079437\n",
      "100%|█████████████████████████████████████████| 411/411 [03:41<00:00,  1.86it/s]\n",
      "86 Finding recommendations for:  2065378221\n",
      "100%|█████████████████████████████████████████| 411/411 [03:42<00:00,  1.84it/s]\n",
      "87 Finding recommendations for:  1499137793\n",
      "100%|█████████████████████████████████████████| 411/411 [03:41<00:00,  1.86it/s]\n",
      "88 Finding recommendations for:  1919463553\n",
      "100%|█████████████████████████████████████████| 411/411 [03:41<00:00,  1.86it/s]\n",
      "89 Finding recommendations for:  2097954413\n",
      "100%|█████████████████████████████████████████| 411/411 [03:40<00:00,  1.86it/s]\n",
      "90 Finding recommendations for:  1851008664\n",
      "100%|█████████████████████████████████████████| 411/411 [03:41<00:00,  1.86it/s]\n",
      "91 Finding recommendations for:  2149579966\n",
      "100%|█████████████████████████████████████████| 411/411 [03:42<00:00,  1.85it/s]\n",
      "92 Finding recommendations for:  2150270728\n",
      "100%|█████████████████████████████████████████| 411/411 [03:38<00:00,  1.88it/s]\n",
      "93 Finding recommendations for:  16191149\n",
      "100%|█████████████████████████████████████████| 411/411 [03:42<00:00,  1.85it/s]\n",
      "94 Finding recommendations for:  1598912986\n",
      "100%|█████████████████████████████████████████| 411/411 [03:40<00:00,  1.86it/s]\n",
      "95 Finding recommendations for:  1838688798\n",
      "100%|█████████████████████████████████████████| 411/411 [03:40<00:00,  1.86it/s]\n",
      "96 Finding recommendations for:  1456665855\n",
      "100%|█████████████████████████████████████████| 411/411 [03:41<00:00,  1.85it/s]\n",
      "97 Finding recommendations for:  1955417373\n",
      "100%|█████████████████████████████████████████| 411/411 [03:41<00:00,  1.85it/s]\n",
      "98 Finding recommendations for:  1719940360\n",
      "100%|█████████████████████████████████████████| 411/411 [03:41<00:00,  1.86it/s]\n",
      "99 Finding recommendations for:  1918406761\n",
      "100%|█████████████████████████████████████████| 411/411 [03:43<00:00,  1.84it/s]\n",
      "100 Finding recommendations for:  1845984733\n",
      "100%|█████████████████████████████████████████| 411/411 [03:40<00:00,  1.87it/s]\n",
      "0.0\n",
      "0.0\n",
      "0.02\n",
      "0.09090909090909091\n",
      "0.0\n",
      "0.0\n",
      "0.07\n",
      "0.35\n",
      "0.06\n",
      "0.24\n",
      "0.01\n",
      "0.030303030303030304\n",
      "0.06\n",
      "0.13636363636363635\n",
      "0.02\n",
      "0.09090909090909091\n",
      "0.03\n",
      "0.14285714285714285\n",
      "0.01\n",
      "0.037037037037037035\n",
      "0.05\n",
      "0.1\n",
      "0.03\n",
      "0.075\n",
      "0.05\n",
      "0.14285714285714285\n",
      "0.0\n",
      "0.0\n",
      "0.0\n",
      "0.0\n",
      "0.03\n",
      "0.10344827586206896\n",
      "0.01\n",
      "0.045454545454545456\n",
      "0.06\n",
      "0.2727272727272727\n",
      "0.0\n",
      "0.0\n",
      "0.01\n",
      "0.038461538461538464\n",
      "0.1\n",
      "0.4\n",
      "0.02\n",
      "0.08333333333333333\n",
      "0.04\n",
      "0.10256410256410256\n",
      "0.02\n",
      "0.09090909090909091\n",
      "0.01\n",
      "0.030303030303030304\n",
      "0.08\n",
      "0.2962962962962963\n",
      "0.02\n",
      "0.07407407407407407\n",
      "0.07\n",
      "0.175\n",
      "0.03\n",
      "0.14285714285714285\n",
      "0.04\n",
      "0.2\n",
      "0.01\n",
      "0.029411764705882353\n",
      "0.07\n",
      "0.3333333333333333\n",
      "0.09\n",
      "0.32142857142857145\n",
      "0.04\n",
      "0.11428571428571428\n",
      "0.03\n",
      "0.12\n",
      "0.01\n",
      "0.03225806451612903\n",
      "0.01\n",
      "0.043478260869565216\n",
      "0.01\n",
      "0.043478260869565216\n",
      "0.02\n",
      "0.09090909090909091\n",
      "0.0\n",
      "0.0\n",
      "0.05\n",
      "0.18518518518518517\n",
      "0.01\n",
      "0.045454545454545456\n",
      "0.02\n",
      "0.08695652173913043\n",
      "0.01\n",
      "0.022222222222222223\n",
      "0.02\n",
      "0.08333333333333333\n",
      "0.02\n",
      "0.1\n",
      "0.04\n",
      "0.2\n",
      "0.06\n",
      "0.2608695652173913\n",
      "0.0\n",
      "0.0\n",
      "0.05\n",
      "0.10869565217391304\n",
      "0.04\n",
      "0.125\n",
      "0.06\n",
      "0.20689655172413793\n",
      "0.04\n",
      "0.16666666666666666\n",
      "0.04\n",
      "0.08333333333333333\n",
      "0.09\n",
      "0.2727272727272727\n",
      "0.03\n",
      "0.12\n",
      "0.0\n",
      "0.0\n",
      "0.0\n",
      "0.0\n",
      "0.04\n",
      "0.11428571428571428\n",
      "0.0\n",
      "0.0\n",
      "0.0\n",
      "0.0\n",
      "0.04\n",
      "0.0851063829787234\n",
      "0.03\n",
      "0.06976744186046512\n",
      "0.05\n",
      "0.1282051282051282\n",
      "0.05\n",
      "0.11363636363636363\n",
      "0.03\n",
      "0.14285714285714285\n",
      "0.01\n",
      "0.038461538461538464\n",
      "0.04\n",
      "0.11764705882352941\n",
      "0.03\n",
      "0.08823529411764706\n",
      "0.0\n",
      "0.0\n",
      "0.0\n",
      "0.0\n",
      "0.05\n",
      "0.15625\n",
      "0.07\n",
      "0.2\n",
      "0.0\n",
      "0.0\n",
      "0.02\n",
      "0.02531645569620253\n",
      "0.0\n",
      "0.0\n",
      "0.07\n",
      "0.16279069767441862\n",
      "0.04\n",
      "0.2\n",
      "0.09\n",
      "0.32142857142857145\n",
      "0.05\n",
      "0.19230769230769232\n",
      "0.02\n",
      "0.08695652173913043\n",
      "0.07\n",
      "0.20588235294117646\n",
      "0.07\n",
      "0.20588235294117646\n",
      "0.01\n",
      "0.043478260869565216\n",
      "0.0\n",
      "0.0\n",
      "0.08\n",
      "0.2\n",
      "0.03\n",
      "0.13043478260869565\n",
      "0.03\n",
      "0.125\n",
      "0.05\n",
      "0.25\n",
      "0.09\n",
      "0.15517241379310345\n",
      "0.11\n",
      "0.2037037037037037\n",
      "0.0\n",
      "0.0\n",
      "0.01\n",
      "0.05\n",
      "0.03\n",
      "0.13043478260869565\n",
      "0.0\n",
      "0.0\n",
      "0.01\n",
      "0.024390243902439025\n",
      "0.08\n",
      "0.38095238095238093\n",
      "0.01\n",
      "0.047619047619047616\n",
      "0.05\n",
      "0.25\n",
      "0.05\n",
      "0.22727272727272727\n",
      "0.06\n",
      "0.20689655172413793\n",
      "Overall Recall:  0.11651445930477983\n"
     ]
    }
   ],
   "source": [
    "!python ev.py"
   ]
  },
  {
   "cell_type": "code",
   "execution_count": 5,
   "metadata": {},
   "outputs": [
    {
     "name": "stdout",
     "output_type": "stream",
     "text": [
      "0.1\n",
      "0.19230769230769232\n",
      "0.04\n",
      "0.1\n",
      "0.06\n",
      "0.15\n",
      "0.06\n",
      "0.15\n",
      "0.0\n",
      "0.0\n",
      "0.14\n",
      "0.12962962962962962\n",
      "0.08\n",
      "0.16666666666666666\n",
      "0.04\n",
      "0.0425531914893617\n",
      "0.06\n",
      "0.09375\n",
      "0.08\n",
      "0.11764705882352941\n",
      "0.02\n",
      "0.041666666666666664\n",
      "0.02\n",
      "0.05\n",
      "0.02\n",
      "0.047619047619047616\n",
      "0.0\n",
      "0.0\n",
      "0.08\n",
      "0.1\n",
      "0.1\n",
      "0.11627906976744186\n",
      "0.0\n",
      "0.0\n",
      "0.06\n",
      "0.15\n",
      "0.04\n",
      "0.1\n",
      "0.0\n",
      "0.0\n",
      "0.02\n",
      "0.03125\n",
      "0.0\n",
      "0.0\n",
      "0.08\n",
      "0.2\n",
      "0.0\n",
      "0.0\n",
      "0.0\n",
      "0.0\n",
      "0.04\n",
      "0.08\n",
      "0.0\n",
      "0.0\n",
      "0.08\n",
      "0.14814814814814814\n",
      "0.08\n",
      "0.11428571428571428\n",
      "0.04\n",
      "0.09523809523809523\n",
      "0.0\n",
      "0.0\n",
      "0.02\n",
      "0.02564102564102564\n",
      "0.0\n",
      "0.0\n",
      "0.0\n",
      "0.0\n",
      "0.0\n",
      "0.0\n",
      "0.04\n",
      "0.08695652173913043\n",
      "0.02\n",
      "0.03225806451612903\n",
      "0.04\n",
      "0.09523809523809523\n",
      "0.02\n",
      "0.043478260869565216\n",
      "0.08\n",
      "0.11428571428571428\n",
      "0.14\n",
      "0.3333333333333333\n",
      "0.14\n",
      "0.28\n",
      "0.04\n",
      "0.08695652173913043\n",
      "0.14\n",
      "0.25\n",
      "0.02\n",
      "0.034482758620689655\n",
      "0.02\n",
      "0.023255813953488372\n",
      "0.04\n",
      "0.045454545454545456\n",
      "0.02\n",
      "0.038461538461538464\n",
      "0.02\n",
      "0.029411764705882353\n",
      "0.06\n",
      "0.08571428571428572\n",
      "0.0\n",
      "0.0\n",
      "0.0\n",
      "0.0\n",
      "0.06\n",
      "0.07692307692307693\n",
      "0.0\n",
      "0.0\n",
      "0.06\n",
      "0.075\n",
      "0.14\n",
      "0.175\n",
      "0.04\n",
      "0.041666666666666664\n",
      "0.02\n",
      "0.030303030303030304\n",
      "0.08\n",
      "0.09090909090909091\n",
      "0.04\n",
      "0.1\n",
      "0.04\n",
      "0.08\n",
      "0.1\n",
      "0.21739130434782608\n",
      "0.04\n",
      "0.08695652173913043\n",
      "0.1\n",
      "0.14705882352941177\n",
      "0.0\n",
      "0.0\n",
      "0.04\n",
      "0.08333333333333333\n",
      "0.0\n",
      "0.0\n",
      "0.08\n",
      "0.18181818181818182\n",
      "0.0\n",
      "0.0\n",
      "0.0\n",
      "0.0\n",
      "0.04\n",
      "0.043478260869565216\n",
      "0.04\n",
      "0.08695652173913043\n",
      "0.16\n",
      "0.24242424242424243\n",
      "0.0\n",
      "0.0\n",
      "0.0\n",
      "0.0\n",
      "0.04\n",
      "0.09090909090909091\n",
      "0.0\n",
      "0.0\n",
      "0.08\n",
      "0.13793103448275862\n",
      "0.02\n",
      "0.043478260869565216\n",
      "0.14\n",
      "0.3333333333333333\n",
      "0.12\n",
      "0.17142857142857143\n",
      "0.1\n",
      "0.1\n",
      "0.16\n",
      "0.13793103448275862\n",
      "0.02\n",
      "0.045454545454545456\n",
      "0.0\n",
      "0.0\n",
      "0.0\n",
      "0.0\n",
      "0.0\n",
      "0.0\n",
      "0.02\n",
      "0.045454545454545456\n",
      "0.14\n",
      "0.25925925925925924\n",
      "0.0\n",
      "0.0\n",
      "0.14\n",
      "0.25\n",
      "0.08\n",
      "0.18181818181818182\n",
      "0.08\n",
      "0.13793103448275862\n",
      "0.0\n",
      "0.0\n",
      "0.04\n",
      "0.09523809523809523\n",
      "0.08\n",
      "0.11764705882352941\n",
      "0.02\n",
      "0.045454545454545456\n",
      "0.04\n",
      "0.02531645569620253\n",
      "0.02\n",
      "0.024390243902439025\n",
      "0.0\n",
      "0.0\n",
      "0.08\n",
      "0.16\n",
      "Overall Recall:  0.08103132248126153\n"
     ]
    }
   ],
   "source": [
    "!python ev.py"
   ]
  },
  {
   "cell_type": "code",
   "execution_count": null,
   "metadata": {},
   "outputs": [],
   "source": []
  }
 ],
 "metadata": {
  "kernelspec": {
   "display_name": "ccf",
   "language": "python",
   "name": "ccf"
  },
  "language_info": {
   "codemirror_mode": {
    "name": "ipython",
    "version": 3
   },
   "file_extension": ".py",
   "mimetype": "text/x-python",
   "name": "python",
   "nbconvert_exporter": "python",
   "pygments_lexer": "ipython3",
   "version": "3.5.5"
  }
 },
 "nbformat": 4,
 "nbformat_minor": 2
}
