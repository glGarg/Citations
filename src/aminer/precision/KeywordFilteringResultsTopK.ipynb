{
 "cells": [
  {
   "cell_type": "code",
   "execution_count": 1,
   "metadata": {},
   "outputs": [],
   "source": [
    "from utility import EnglishTextProcessor\n",
    "import numpy as np\n",
    "from tqdm import tqdm\n",
    "import json"
   ]
  },
  {
   "cell_type": "code",
   "execution_count": 3,
   "metadata": {},
   "outputs": [],
   "source": [
    "import json\n",
    "import os\n",
    "import pickle"
   ]
  },
  {
   "cell_type": "code",
   "execution_count": 2,
   "metadata": {},
   "outputs": [],
   "source": [
    "def load_json(filename):\n",
    "    d = None\n",
    "    with open(filename) as file:\n",
    "        d = json.load(file)\n",
    "    \n",
    "    return d"
   ]
  },
  {
   "cell_type": "code",
   "execution_count": 4,
   "metadata": {},
   "outputs": [],
   "source": [
    "etp = EnglishTextProcessor()\n",
    "author = load_json('author_filtered_citations.json')"
   ]
  },
  {
   "cell_type": "code",
   "execution_count": 6,
   "metadata": {},
   "outputs": [],
   "source": [
    "from aminer.recall.query_es import get_abstract_by_pids, get_references_by_pid\n",
    "\n",
    "test_recs = {}\n",
    "for id in author:\n",
    "    test_recs[id] = get_references_by_pid(id)"
   ]
  },
  {
   "cell_type": "code",
   "execution_count": 7,
   "metadata": {},
   "outputs": [],
   "source": [
    "relevant_ids = set(test_recs.keys())\n",
    "for id in test_recs:\n",
    "    relevant_ids = relevant_ids.union(test_recs[id])"
   ]
  },
  {
   "cell_type": "code",
   "execution_count": 8,
   "metadata": {
    "scrolled": true
   },
   "outputs": [
    {
     "name": "stderr",
     "output_type": "stream",
     "text": [
      "100%|██████████| 411/411 [00:41<00:00,  9.86it/s]\n"
     ]
    }
   ],
   "source": [
    "relevant_id_keywords = {id:set() for id in relevant_ids}\n",
    "for i in tqdm(range(411)):\n",
    "    batch = load_json('../support/keyword_batches/{}.json'.format(i))\n",
    "    for id in batch:\n",
    "        if id in relevant_id_keywords:\n",
    "            relevant_id_keywords[id] = batch[id]"
   ]
  },
  {
   "cell_type": "code",
   "execution_count": 10,
   "metadata": {},
   "outputs": [
    {
     "data": {
      "text/plain": [
       "83.07691843081028"
      ]
     },
     "execution_count": 10,
     "metadata": {},
     "output_type": "execute_result"
    }
   ],
   "source": [
    "overall = 0\n",
    "threshold = 0.1\n",
    "for id in test_recs:\n",
    "    score = 0\n",
    "    for rid in test_recs[id]:\n",
    "        if len(set([k for k in relevant_id_keywords[rid] if relevant_id_keywords[rid][k] > threshold]).intersection(relevant_id_keywords[id])) > 0:\n",
    "            score += 1\n",
    "    \n",
    "    overall += score / len(test_recs[id])\n",
    "\n",
    "overall"
   ]
  },
  {
   "cell_type": "code",
   "execution_count": 11,
   "metadata": {
    "scrolled": true
   },
   "outputs": [
    {
     "name": "stderr",
     "output_type": "stream",
     "text": [
      " 41%|████      | 167/411 [05:19<07:08,  1.76s/it]"
     ]
    },
    {
     "ename": "KeyboardInterrupt",
     "evalue": "",
     "output_type": "error",
     "traceback": [
      "\u001b[0;31m---------------------------------------------------------------------------\u001b[0m",
      "\u001b[0;31mKeyboardInterrupt\u001b[0m                         Traceback (most recent call last)",
      "\u001b[0;32m<ipython-input-11-a330c6ad7dbc>\u001b[0m in \u001b[0;36m<module>\u001b[0;34m()\u001b[0m\n\u001b[1;32m      6\u001b[0m         \u001b[0mexample_keywords\u001b[0m \u001b[0;34m=\u001b[0m \u001b[0mrelevant_id_keywords\u001b[0m\u001b[0;34m[\u001b[0m\u001b[0mid\u001b[0m\u001b[0;34m]\u001b[0m\u001b[0;34m\u001b[0m\u001b[0m\n\u001b[1;32m      7\u001b[0m         \u001b[0;32mfor\u001b[0m \u001b[0mbid\u001b[0m \u001b[0;32min\u001b[0m \u001b[0mbatch\u001b[0m\u001b[0;34m:\u001b[0m\u001b[0;34m\u001b[0m\u001b[0m\n\u001b[0;32m----> 8\u001b[0;31m             \u001b[0mintersection\u001b[0m \u001b[0;34m=\u001b[0m \u001b[0mset\u001b[0m\u001b[0;34m(\u001b[0m\u001b[0mbatch\u001b[0m\u001b[0;34m[\u001b[0m\u001b[0mbid\u001b[0m\u001b[0;34m]\u001b[0m\u001b[0;34m)\u001b[0m\u001b[0;34m.\u001b[0m\u001b[0mintersection\u001b[0m\u001b[0;34m(\u001b[0m\u001b[0mexample_keywords\u001b[0m\u001b[0;34m)\u001b[0m\u001b[0;34m\u001b[0m\u001b[0m\n\u001b[0m\u001b[1;32m      9\u001b[0m             \u001b[0;32mif\u001b[0m \u001b[0mlen\u001b[0m\u001b[0;34m(\u001b[0m\u001b[0mintersection\u001b[0m\u001b[0;34m)\u001b[0m \u001b[0;34m>\u001b[0m \u001b[0;36m0\u001b[0m\u001b[0;34m:\u001b[0m\u001b[0;34m\u001b[0m\u001b[0m\n\u001b[1;32m     10\u001b[0m                 \u001b[0mkeyword_importance\u001b[0m \u001b[0;34m=\u001b[0m \u001b[0;36m0\u001b[0m\u001b[0;34m\u001b[0m\u001b[0m\n",
      "\u001b[0;31mKeyboardInterrupt\u001b[0m: "
     ]
    }
   ],
   "source": [
    "candidate_sets = {id: {} for id in test_recs}\n",
    "\n",
    "for i in tqdm(range(411)):\n",
    "    batch = load_json('../support/keyword_batches/{}.json'.format(i))\n",
    "    for id in test_recs:\n",
    "        example_keywords = relevant_id_keywords[id]\n",
    "        for bid in batch:\n",
    "            intersection = set(batch[bid]).intersection(example_keywords)\n",
    "            if len(intersection) > 0:\n",
    "                keyword_importance = 0\n",
    "                for k in intersection:\n",
    "                    keyword_importance += batch[bid][k]\n",
    "\n",
    "                candidate_sets[id][bid] = keyword_importance"
   ]
  },
  {
   "cell_type": "code",
   "execution_count": 40,
   "metadata": {},
   "outputs": [
    {
     "data": {
      "text/plain": [
       "66.06550831787455"
      ]
     },
     "execution_count": 40,
     "metadata": {},
     "output_type": "execute_result"
    }
   ],
   "source": [
    "top_k = 100000\n",
    "overall = 0\n",
    "for id in sorted_candidate_sets:\n",
    "    top_candidates = set(sorted_candidate_sets[id][:top_k])\n",
    "    score = 0\n",
    "    for cid in test_recs[id]:\n",
    "        if cid in top_candidates:\n",
    "            score += 1\n",
    "    \n",
    "    overall += score / len(test_recs[id])\n",
    "overall"
   ]
  },
  {
   "cell_type": "code",
   "execution_count": 12,
   "metadata": {},
   "outputs": [],
   "source": [
    "kw = load_json('../support/keyword_filtering_candidate_scores.json')"
   ]
  },
  {
   "cell_type": "code",
   "execution_count": 24,
   "metadata": {
    "scrolled": true
   },
   "outputs": [
    {
     "name": "stderr",
     "output_type": "stream",
     "text": [
      "\n",
      "  0%|          | 0/96 [00:00<?, ?it/s]\u001b[A\n",
      "  1%|          | 1/96 [00:01<02:30,  1.59s/it]\u001b[A\n",
      "  2%|▏         | 2/96 [00:01<01:55,  1.23s/it]\u001b[A\n",
      "  3%|▎         | 3/96 [00:02<01:37,  1.05s/it]\u001b[A\n",
      "  5%|▌         | 5/96 [00:03<01:20,  1.14it/s]\u001b[A\n",
      "  6%|▋         | 6/96 [00:04<01:08,  1.32it/s]\u001b[A\n",
      "  7%|▋         | 7/96 [00:04<00:53,  1.66it/s]\u001b[A\n",
      "  8%|▊         | 8/96 [00:05<01:14,  1.18it/s]\u001b[A\n",
      "  9%|▉         | 9/96 [00:06<01:01,  1.40it/s]\u001b[A\n",
      " 10%|█         | 10/96 [00:06<01:02,  1.38it/s]\u001b[A\n",
      " 11%|█▏        | 11/96 [00:07<01:06,  1.27it/s]\u001b[A\n",
      " 12%|█▎        | 12/96 [00:09<01:16,  1.10it/s]\u001b[A\n",
      " 14%|█▎        | 13/96 [00:10<01:26,  1.04s/it]\u001b[A\n",
      " 15%|█▍        | 14/96 [00:10<01:15,  1.09it/s]\u001b[A\n",
      " 16%|█▌        | 15/96 [00:11<01:03,  1.27it/s]\u001b[A\n",
      " 17%|█▋        | 16/96 [00:12<01:17,  1.03it/s]\u001b[A\n",
      " 18%|█▊        | 17/96 [00:13<01:08,  1.15it/s]\u001b[A\n",
      " 19%|█▉        | 18/96 [00:13<00:56,  1.39it/s]\u001b[A\n",
      " 20%|█▉        | 19/96 [00:14<00:50,  1.53it/s]\u001b[A\n",
      " 21%|██        | 20/96 [00:15<01:08,  1.12it/s]\u001b[A\n",
      " 22%|██▏       | 21/96 [00:16<01:01,  1.21it/s]\u001b[A\n",
      " 23%|██▎       | 22/96 [00:16<00:47,  1.55it/s]\u001b[A\n",
      " 24%|██▍       | 23/96 [00:17<00:43,  1.69it/s]\u001b[A\n",
      " 25%|██▌       | 24/96 [00:17<00:36,  2.00it/s]\u001b[A\n",
      " 26%|██▌       | 25/96 [00:18<00:54,  1.31it/s]\u001b[A\n",
      " 27%|██▋       | 26/96 [00:19<00:40,  1.71it/s]\u001b[A\n",
      " 29%|██▉       | 28/96 [00:20<00:39,  1.71it/s]\u001b[A\n",
      " 30%|███       | 29/96 [00:20<00:38,  1.75it/s]\u001b[A\n",
      " 31%|███▏      | 30/96 [00:22<00:55,  1.18it/s]\u001b[A\n",
      " 32%|███▏      | 31/96 [00:22<00:43,  1.50it/s]\u001b[A\n",
      " 34%|███▍      | 33/96 [00:23<00:43,  1.44it/s]\u001b[A\n",
      " 35%|███▌      | 34/96 [00:24<00:44,  1.41it/s]\u001b[A\n",
      " 36%|███▋      | 35/96 [00:25<00:37,  1.65it/s]\u001b[A\n",
      " 38%|███▊      | 36/96 [00:25<00:28,  2.09it/s]\u001b[A\n",
      " 39%|███▊      | 37/96 [00:26<00:35,  1.66it/s]\u001b[A\n",
      " 40%|███▉      | 38/96 [00:27<00:47,  1.21it/s]\u001b[A\n",
      " 41%|████      | 39/96 [00:28<00:43,  1.30it/s]\u001b[A\n",
      " 42%|████▏     | 40/96 [00:29<00:44,  1.25it/s]\u001b[A\n",
      " 43%|████▎     | 41/96 [00:29<00:39,  1.39it/s]\u001b[A\n",
      " 44%|████▍     | 42/96 [00:30<00:35,  1.50it/s]\u001b[A\n",
      " 45%|████▍     | 43/96 [00:30<00:36,  1.47it/s]\u001b[A\n",
      " 46%|████▌     | 44/96 [00:31<00:30,  1.71it/s]\u001b[A\n",
      " 47%|████▋     | 45/96 [00:32<00:35,  1.44it/s]\u001b[A\n",
      " 48%|████▊     | 46/96 [00:32<00:32,  1.55it/s]\u001b[A\n",
      " 49%|████▉     | 47/96 [00:33<00:38,  1.28it/s]\u001b[A\n",
      " 50%|█████     | 48/96 [00:34<00:35,  1.37it/s]\u001b[A\n",
      " 51%|█████     | 49/96 [00:34<00:29,  1.59it/s]\u001b[A\n",
      " 52%|█████▏    | 50/96 [00:35<00:25,  1.83it/s]\u001b[A\n",
      " 53%|█████▎    | 51/96 [00:35<00:23,  1.93it/s]\u001b[A\n",
      " 54%|█████▍    | 52/96 [00:35<00:17,  2.51it/s]\u001b[A\n",
      " 55%|█████▌    | 53/96 [00:36<00:19,  2.23it/s]\u001b[A\n",
      " 56%|█████▋    | 54/96 [00:36<00:19,  2.13it/s]\u001b[A\n",
      " 57%|█████▋    | 55/96 [00:37<00:18,  2.27it/s]\u001b[A\n",
      " 58%|█████▊    | 56/96 [00:38<00:27,  1.44it/s]\u001b[A\n",
      " 59%|█████▉    | 57/96 [00:39<00:36,  1.07it/s]\u001b[A\n",
      " 60%|██████    | 58/96 [00:40<00:30,  1.26it/s]\u001b[A\n",
      " 61%|██████▏   | 59/96 [00:41<00:29,  1.24it/s]\u001b[A\n",
      " 62%|██████▎   | 60/96 [00:42<00:29,  1.23it/s]\u001b[A\n",
      " 64%|██████▎   | 61/96 [00:42<00:29,  1.17it/s]\u001b[A\n",
      " 65%|██████▍   | 62/96 [00:43<00:27,  1.25it/s]\u001b[A\n",
      " 66%|██████▌   | 63/96 [00:44<00:24,  1.36it/s]\u001b[A\n",
      " 67%|██████▋   | 64/96 [00:44<00:20,  1.53it/s]\u001b[A\n",
      " 68%|██████▊   | 65/96 [00:45<00:17,  1.80it/s]\u001b[A\n",
      " 69%|██████▉   | 66/96 [00:46<00:24,  1.22it/s]\u001b[A\n",
      " 70%|██████▉   | 67/96 [00:46<00:21,  1.37it/s]\u001b[A\n",
      " 71%|███████   | 68/96 [00:47<00:15,  1.80it/s]\u001b[A\n",
      " 72%|███████▏  | 69/96 [00:47<00:11,  2.29it/s]\u001b[A\n",
      " 73%|███████▎  | 70/96 [00:47<00:12,  2.03it/s]\u001b[A\n",
      " 75%|███████▌  | 72/96 [00:48<00:10,  2.33it/s]\u001b[A\n",
      " 76%|███████▌  | 73/96 [00:48<00:08,  2.79it/s]\u001b[A\n",
      " 77%|███████▋  | 74/96 [00:49<00:09,  2.42it/s]\u001b[A\n",
      " 78%|███████▊  | 75/96 [00:50<00:11,  1.87it/s]\u001b[A\n",
      " 79%|███████▉  | 76/96 [00:51<00:16,  1.24it/s]\u001b[A\n",
      " 80%|████████  | 77/96 [00:52<00:15,  1.21it/s]\u001b[A\n",
      " 81%|████████▏ | 78/96 [00:52<00:12,  1.39it/s]\u001b[A\n",
      " 82%|████████▏ | 79/96 [00:53<00:09,  1.71it/s]\u001b[A\n",
      " 83%|████████▎ | 80/96 [00:53<00:07,  2.06it/s]\u001b[A\n",
      " 84%|████████▍ | 81/96 [00:54<00:08,  1.73it/s]\u001b[A\n",
      " 85%|████████▌ | 82/96 [00:54<00:07,  1.91it/s]\u001b[A\n",
      " 86%|████████▋ | 83/96 [00:54<00:05,  2.31it/s]\u001b[A\n",
      " 88%|████████▊ | 84/96 [00:55<00:05,  2.24it/s]\u001b[A\n",
      " 89%|████████▊ | 85/96 [00:55<00:05,  2.03it/s]\u001b[A\n",
      " 90%|████████▉ | 86/96 [00:56<00:05,  1.89it/s]\u001b[A\n",
      " 91%|█████████ | 87/96 [00:57<00:05,  1.70it/s]\u001b[A\n",
      " 92%|█████████▏| 88/96 [00:58<00:05,  1.41it/s]\u001b[A\n",
      " 93%|█████████▎| 89/96 [00:58<00:04,  1.52it/s]\u001b[A\n",
      " 94%|█████████▍| 90/96 [00:59<00:04,  1.43it/s]\u001b[A\n",
      " 95%|█████████▍| 91/96 [01:00<00:03,  1.46it/s]\u001b[A\n",
      " 96%|█████████▌| 92/96 [01:00<00:02,  1.65it/s]\u001b[A\n",
      " 97%|█████████▋| 93/96 [01:01<00:02,  1.44it/s]\u001b[A\n",
      " 98%|█████████▊| 94/96 [01:02<00:01,  1.50it/s]\u001b[A\n",
      " 99%|█████████▉| 95/96 [01:03<00:00,  1.18it/s]\u001b[A\n",
      "100%|██████████| 96/96 [01:03<00:00,  1.51it/s]\u001b[A\n"
     ]
    }
   ],
   "source": [
    "sorted_candidate_sets = {id: [] for id in candidate_sets}\n",
    "for id in tqdm(candidate_sets):\n",
    "    candidate_scores = kw[id]\n",
    "    sorted_candidate_sets[id] = sorted(candidate_scores, reverse=True, key=lambda x: candidate_scores[x])"
   ]
  },
  {
   "cell_type": "code",
   "execution_count": 35,
   "metadata": {},
   "outputs": [],
   "source": [
    "import matplotlib.pyplot as plt\n",
    "\n",
    "ks = [100*(i+1) for i in range(50)]\n",
    "ys = []\n",
    "\n",
    "for k in ks:\n",
    "    overall = 0\n",
    "    for id in sorted_candidate_sets:\n",
    "        top_candidates = set(sorted_candidate_sets[id][:k])\n",
    "        score = 0\n",
    "        for cid in test_recs[id]:\n",
    "            if cid in top_candidates:\n",
    "                score += 1\n",
    "\n",
    "        overall += score / len(test_recs[id])\n",
    "\n",
    "    ys += [overall]"
   ]
  },
  {
   "cell_type": "code",
   "execution_count": 43,
   "metadata": {},
   "outputs": [
    {
     "data": {
      "text/plain": [
       "[<matplotlib.lines.Line2D at 0x7fb1cd7a79b0>]"
      ]
     },
     "execution_count": 43,
     "metadata": {},
     "output_type": "execute_result"
    },
    {
     "data": {
      "image/png": "[encoded data removed]",
      "text/plain": [
       "<Figure size 432x288 with 1 Axes>"
      ]
     },
     "metadata": {},
     "output_type": "display_data"
    }
   ],
   "source": [
    "plt.title('K vs Recall')\n",
    "plt.xlabel('K')\n",
    "plt.ylabel('Recall')\n",
    "plt.plot(ks, ys, marker='o')"
   ]
  },
  {
   "cell_type": "code",
   "execution_count": null,
   "metadata": {},
   "outputs": [],
   "source": []
  }
 ],
 "metadata": {
  "kernelspec": {
   "display_name": "ccf",
   "language": "python",
   "name": "ccf"
  },
  "language_info": {
   "codemirror_mode": {
    "name": "ipython",
    "version": 3
   },
   "file_extension": ".py",
   "mimetype": "text/x-python",
   "name": "python",
   "nbconvert_exporter": "python",
   "pygments_lexer": "ipython3",
   "version": "3.5.5"
  }
 },
 "nbformat": 4,
 "nbformat_minor": 2
}
