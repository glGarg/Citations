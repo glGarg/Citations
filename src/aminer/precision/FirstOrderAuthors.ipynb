{
 "cells": [
  {
   "cell_type": "code",
   "execution_count": 1,
   "metadata": {},
   "outputs": [],
   "source": [
    "import os\n",
    "import json\n",
    "\n",
    "from tqdm import tqdm"
   ]
  },
  {
   "cell_type": "code",
   "execution_count": 2,
   "metadata": {},
   "outputs": [],
   "source": [
    "file = os.path.join('../support', 'ids.txt')\n",
    "ids = set([line.rstrip('\\n') for line in open(file)])\n",
    "def load_json(file_name):\n",
    "    o = None\n",
    "    with open(file_name) as file:\n",
    "        o = json.load(file)\n",
    "\n",
    "    return o\n",
    "\n",
    "def dump_json(f, d):\n",
    "    with open(f, 'w') as file:\n",
    "        json.dump(d, file)"
   ]
  },
  {
   "cell_type": "code",
   "execution_count": 3,
   "metadata": {
    "scrolled": true
   },
   "outputs": [
    {
     "name": "stderr",
     "output_type": "stream",
     "text": [
      "100%|██████████| 411/411 [00:11<00:00, 34.55it/s]\n"
     ]
    }
   ],
   "source": [
    "paper_authors = {}\n",
    "for i in tqdm(range(411)):\n",
    "    a = load_json('author_dictionaries/author_dict_{}.json'.format(i))\n",
    "    for id in a:\n",
    "        paper_authors[id] = a[id]"
   ]
  },
  {
   "cell_type": "code",
   "execution_count": 4,
   "metadata": {},
   "outputs": [
    {
     "name": "stderr",
     "output_type": "stream",
     "text": [
      "100%|██████████| 411/411 [12:40<00:00,  1.85s/it]\n"
     ]
    }
   ],
   "source": [
    "first_order_author_dicts = {}\n",
    "for i in tqdm(range(411)):\n",
    "    c = load_json('cited_author_dictionaries/cited_author_dict_{}.json'.format(i))\n",
    "    for id in c:\n",
    "        if id in ids:\n",
    "            continue\n",
    "\n",
    "        authors = paper_authors[id]\n",
    "        cited_authors = c[id]\n",
    "        for author in authors:\n",
    "            if author not in first_order_author_dicts:\n",
    "                first_order_author_dicts[author] = set()\n",
    "\n",
    "            first_order_author_dicts[author] = first_order_author_dicts[author].union(cited_authors)"
   ]
  },
  {
   "cell_type": "code",
   "execution_count": 5,
   "metadata": {},
   "outputs": [
    {
     "name": "stdout",
     "output_type": "stream",
     "text": [
      "1992078202\n",
      "2004111797\n",
      "1551676982\n",
      "2163666621\n",
      "1575030031\n"
     ]
    }
   ],
   "source": [
    "found = 0\n",
    "found_ids = []\n",
    "for id in ids:\n",
    "    if not any(author in first_order_author_dicts for author in paper_authors[id]):\n",
    "        print(id)\n",
    "    else:\n",
    "        found_ids += [id]\n",
    "\n",
    "ids = found_ids"
   ]
  },
  {
   "cell_type": "code",
   "execution_count": 7,
   "metadata": {},
   "outputs": [
    {
     "name": "stderr",
     "output_type": "stream",
     "text": [
      "\n",
      "  0%|          | 0/96 [00:00<?, ?it/s]\u001b[A\n",
      "  1%|          | 1/96 [05:50<9:15:28, 350.83s/it]\u001b[A"
     ]
    },
    {
     "name": "stdout",
     "output_type": "stream",
     "text": [
      "7262 704799\n"
     ]
    },
    {
     "name": "stderr",
     "output_type": "stream",
     "text": [
      "\n",
      "  2%|▏         | 2/96 [06:06<6:32:11, 250.34s/it]\u001b[A"
     ]
    },
    {
     "name": "stdout",
     "output_type": "stream",
     "text": [
      "1503 273546\n"
     ]
    },
    {
     "name": "stderr",
     "output_type": "stream",
     "text": [
      "\n",
      "  3%|▎         | 3/96 [06:14<4:35:18, 177.62s/it]\u001b[A"
     ]
    },
    {
     "name": "stdout",
     "output_type": "stream",
     "text": [
      "1084 161843\n"
     ]
    },
    {
     "name": "stderr",
     "output_type": "stream",
     "text": [
      "\n",
      "  4%|▍         | 4/96 [06:24<3:15:07, 127.25s/it]\u001b[A"
     ]
    },
    {
     "name": "stdout",
     "output_type": "stream",
     "text": [
      "1272 223993\n"
     ]
    },
    {
     "name": "stderr",
     "output_type": "stream",
     "text": [
      "\n",
      "  5%|▌         | 5/96 [06:24<2:15:12, 89.15s/it] \u001b[A"
     ]
    },
    {
     "name": "stdout",
     "output_type": "stream",
     "text": [
      "270 31098\n"
     ]
    },
    {
     "name": "stderr",
     "output_type": "stream",
     "text": [
      "\n",
      "  6%|▋         | 6/96 [06:25<1:33:59, 62.66s/it]\u001b[A"
     ]
    },
    {
     "name": "stdout",
     "output_type": "stream",
     "text": [
      "129 67076\n"
     ]
    },
    {
     "name": "stderr",
     "output_type": "stream",
     "text": [
      "\n",
      "  7%|▋         | 7/96 [07:24<1:31:07, 61.43s/it]\u001b[A"
     ]
    },
    {
     "name": "stdout",
     "output_type": "stream",
     "text": [
      "3696 330608\n"
     ]
    },
    {
     "name": "stderr",
     "output_type": "stream",
     "text": [
      "\n",
      "  8%|▊         | 8/96 [07:40<1:10:26, 48.03s/it]\u001b[A"
     ]
    },
    {
     "name": "stdout",
     "output_type": "stream",
     "text": [
      "1350 219156\n"
     ]
    },
    {
     "name": "stderr",
     "output_type": "stream",
     "text": [
      "\n",
      "  9%|▉         | 9/96 [07:48<51:54, 35.80s/it]  \u001b[A"
     ]
    },
    {
     "name": "stdout",
     "output_type": "stream",
     "text": [
      "846 203983\n"
     ]
    },
    {
     "name": "stderr",
     "output_type": "stream",
     "text": [
      "\n",
      " 10%|█         | 10/96 [07:49<36:38, 25.56s/it]\u001b[A"
     ]
    },
    {
     "name": "stdout",
     "output_type": "stream",
     "text": [
      "637 102037\n"
     ]
    },
    {
     "name": "stderr",
     "output_type": "stream",
     "text": [
      "\n",
      " 11%|█▏        | 11/96 [07:55<27:50, 19.65s/it]\u001b[A"
     ]
    },
    {
     "name": "stdout",
     "output_type": "stream",
     "text": [
      "996 152206\n"
     ]
    },
    {
     "name": "stderr",
     "output_type": "stream",
     "text": [
      "\n",
      " 12%|█▎        | 12/96 [12:52<2:24:01, 102.88s/it]\u001b[A"
     ]
    },
    {
     "name": "stdout",
     "output_type": "stream",
     "text": [
      "5836 486201\n"
     ]
    },
    {
     "name": "stderr",
     "output_type": "stream",
     "text": [
      "\n",
      " 14%|█▎        | 13/96 [12:57<1:41:43, 73.54s/it] \u001b[A"
     ]
    },
    {
     "name": "stdout",
     "output_type": "stream",
     "text": [
      "712 181056\n"
     ]
    },
    {
     "name": "stderr",
     "output_type": "stream",
     "text": [
      "\n",
      " 15%|█▍        | 14/96 [13:31<1:24:22, 61.74s/it]\u001b[A"
     ]
    },
    {
     "name": "stdout",
     "output_type": "stream",
     "text": [
      "1883 272512\n"
     ]
    },
    {
     "name": "stderr",
     "output_type": "stream",
     "text": [
      "\n",
      " 16%|█▌        | 15/96 [14:11<1:14:23, 55.10s/it]\u001b[A"
     ]
    },
    {
     "name": "stdout",
     "output_type": "stream",
     "text": [
      "1696 367053\n"
     ]
    },
    {
     "name": "stderr",
     "output_type": "stream",
     "text": [
      "\n",
      " 17%|█▋        | 16/96 [14:49<1:06:35, 49.95s/it]\u001b[A"
     ]
    },
    {
     "name": "stdout",
     "output_type": "stream",
     "text": [
      "2007 315606\n"
     ]
    },
    {
     "name": "stderr",
     "output_type": "stream",
     "text": [
      "\n",
      " 18%|█▊        | 17/96 [14:56<48:44, 37.02s/it]  \u001b[A"
     ]
    },
    {
     "name": "stdout",
     "output_type": "stream",
     "text": [
      "1066 163543\n"
     ]
    },
    {
     "name": "stderr",
     "output_type": "stream",
     "text": [
      "\n",
      " 19%|█▉        | 18/96 [15:04<36:46, 28.29s/it]\u001b[A"
     ]
    },
    {
     "name": "stdout",
     "output_type": "stream",
     "text": [
      "945 174018\n"
     ]
    },
    {
     "name": "stderr",
     "output_type": "stream",
     "text": [
      "\n",
      " 20%|█▉        | 19/96 [15:17<30:20, 23.64s/it]\u001b[A"
     ]
    },
    {
     "name": "stdout",
     "output_type": "stream",
     "text": [
      "1016 236231\n"
     ]
    },
    {
     "name": "stderr",
     "output_type": "stream",
     "text": [
      "\n",
      " 21%|██        | 20/96 [21:49<2:49:54, 134.14s/it]\u001b[A"
     ]
    },
    {
     "name": "stdout",
     "output_type": "stream",
     "text": [
      "5341 591984\n"
     ]
    },
    {
     "name": "stderr",
     "output_type": "stream",
     "text": [
      "\n",
      " 22%|██▏       | 21/96 [22:30<2:12:59, 106.39s/it]\u001b[A"
     ]
    },
    {
     "name": "stdout",
     "output_type": "stream",
     "text": [
      "1957 339800\n"
     ]
    },
    {
     "name": "stderr",
     "output_type": "stream",
     "text": [
      "\n",
      " 23%|██▎       | 22/96 [22:33<1:32:44, 75.19s/it] \u001b[A"
     ]
    },
    {
     "name": "stdout",
     "output_type": "stream",
     "text": [
      "660 153150\n"
     ]
    },
    {
     "name": "stderr",
     "output_type": "stream",
     "text": [
      "\n",
      " 24%|██▍       | 23/96 [22:33<1:04:21, 52.89s/it]\u001b[A"
     ]
    },
    {
     "name": "stdout",
     "output_type": "stream",
     "text": [
      "372 75741\n"
     ]
    },
    {
     "name": "stderr",
     "output_type": "stream",
     "text": [
      "\n",
      " 25%|██▌       | 24/96 [24:58<1:36:28, 80.40s/it]\u001b[A"
     ]
    },
    {
     "name": "stdout",
     "output_type": "stream",
     "text": [
      "3929 483753\n"
     ]
    },
    {
     "name": "stderr",
     "output_type": "stream",
     "text": [
      "\n",
      " 26%|██▌       | 25/96 [25:58<1:27:44, 74.15s/it]\u001b[A"
     ]
    },
    {
     "name": "stdout",
     "output_type": "stream",
     "text": [
      "2497 407834\n"
     ]
    },
    {
     "name": "stderr",
     "output_type": "stream",
     "text": [
      "\n",
      " 27%|██▋       | 26/96 [26:00<1:01:28, 52.70s/it]\u001b[A"
     ]
    },
    {
     "name": "stdout",
     "output_type": "stream",
     "text": [
      "514 173408\n"
     ]
    },
    {
     "name": "stderr",
     "output_type": "stream",
     "text": [
      "\n",
      " 28%|██▊       | 27/96 [27:06<1:05:06, 56.62s/it]\u001b[A"
     ]
    },
    {
     "name": "stdout",
     "output_type": "stream",
     "text": [
      "3227 344276\n"
     ]
    },
    {
     "name": "stderr",
     "output_type": "stream",
     "text": [
      "\n",
      " 29%|██▉       | 28/96 [27:16<48:19, 42.64s/it]  \u001b[A"
     ]
    },
    {
     "name": "stdout",
     "output_type": "stream",
     "text": [
      "1189 178411\n"
     ]
    },
    {
     "name": "stderr",
     "output_type": "stream",
     "text": [
      "\n",
      " 30%|███       | 29/96 [27:35<39:47, 35.63s/it]\u001b[A"
     ]
    },
    {
     "name": "stdout",
     "output_type": "stream",
     "text": [
      "1426 304796\n"
     ]
    },
    {
     "name": "stderr",
     "output_type": "stream",
     "text": [
      "\n",
      " 31%|███▏      | 30/96 [28:02<36:13, 32.93s/it]\u001b[A"
     ]
    },
    {
     "name": "stdout",
     "output_type": "stream",
     "text": [
      "2200 253175\n"
     ]
    },
    {
     "name": "stderr",
     "output_type": "stream",
     "text": [
      "\n",
      " 32%|███▏      | 31/96 [31:47<1:38:15, 90.71s/it]\u001b[A"
     ]
    },
    {
     "name": "stdout",
     "output_type": "stream",
     "text": [
      "5981 480694\n"
     ]
    },
    {
     "name": "stderr",
     "output_type": "stream",
     "text": [
      "\n",
      " 33%|███▎      | 32/96 [32:01<1:11:58, 67.48s/it]\u001b[A"
     ]
    },
    {
     "name": "stdout",
     "output_type": "stream",
     "text": [
      "1485 236695\n"
     ]
    },
    {
     "name": "stderr",
     "output_type": "stream",
     "text": [
      "\n",
      " 34%|███▍      | 33/96 [32:23<56:43, 54.02s/it]  \u001b[A"
     ]
    },
    {
     "name": "stdout",
     "output_type": "stream",
     "text": [
      "1464 282712\n"
     ]
    },
    {
     "name": "stderr",
     "output_type": "stream",
     "text": [
      "\n",
      " 35%|███▌      | 34/96 [38:17<2:28:38, 143.84s/it]\u001b[A"
     ]
    },
    {
     "name": "stdout",
     "output_type": "stream",
     "text": [
      "6626 623385\n"
     ]
    },
    {
     "name": "stderr",
     "output_type": "stream",
     "text": [
      "\n",
      " 36%|███▋      | 35/96 [43:34<3:19:07, 195.87s/it]\u001b[A"
     ]
    },
    {
     "name": "stdout",
     "output_type": "stream",
     "text": [
      "7283 605328\n"
     ]
    },
    {
     "name": "stderr",
     "output_type": "stream",
     "text": [
      "\n",
      " 38%|███▊      | 36/96 [43:44<2:20:12, 140.20s/it]\u001b[A"
     ]
    },
    {
     "name": "stdout",
     "output_type": "stream",
     "text": [
      "1282 207696\n"
     ]
    },
    {
     "name": "stderr",
     "output_type": "stream",
     "text": [
      "\n",
      " 39%|███▊      | 37/96 [46:43<2:29:15, 151.78s/it]\u001b[A"
     ]
    },
    {
     "name": "stdout",
     "output_type": "stream",
     "text": [
      "4827 639763\n"
     ]
    },
    {
     "name": "stderr",
     "output_type": "stream",
     "text": [
      "\n",
      " 40%|███▉      | 38/96 [46:44<1:42:52, 106.42s/it]\u001b[A"
     ]
    },
    {
     "name": "stdout",
     "output_type": "stream",
     "text": [
      "272 79630\n"
     ]
    },
    {
     "name": "stderr",
     "output_type": "stream",
     "text": [
      "\n",
      " 41%|████      | 39/96 [47:27<1:23:01, 87.40s/it] \u001b[A"
     ]
    },
    {
     "name": "stdout",
     "output_type": "stream",
     "text": [
      "2500 310691\n"
     ]
    },
    {
     "name": "stderr",
     "output_type": "stream",
     "text": [
      "\n",
      " 42%|████▏     | 40/96 [47:31<58:26, 62.61s/it]  \u001b[A"
     ]
    },
    {
     "name": "stdout",
     "output_type": "stream",
     "text": [
      "752 173445\n"
     ]
    },
    {
     "name": "stderr",
     "output_type": "stream",
     "text": [
      "\n",
      " 43%|████▎     | 41/96 [47:45<43:51, 47.85s/it]\u001b[A"
     ]
    },
    {
     "name": "stdout",
     "output_type": "stream",
     "text": [
      "1536 209001\n"
     ]
    },
    {
     "name": "stderr",
     "output_type": "stream",
     "text": [
      "\n",
      " 44%|████▍     | 42/96 [48:57<49:39, 55.17s/it]\u001b[A"
     ]
    },
    {
     "name": "stdout",
     "output_type": "stream",
     "text": [
      "3210 420228\n"
     ]
    },
    {
     "name": "stderr",
     "output_type": "stream",
     "text": [
      "\n",
      " 45%|████▍     | 43/96 [49:19<39:51, 45.12s/it]\u001b[A"
     ]
    },
    {
     "name": "stdout",
     "output_type": "stream",
     "text": [
      "982 137000\n"
     ]
    },
    {
     "name": "stderr",
     "output_type": "stream",
     "text": [
      "\n",
      " 46%|████▌     | 44/96 [49:19<27:27, 31.69s/it]\u001b[A"
     ]
    },
    {
     "name": "stdout",
     "output_type": "stream",
     "text": [
      "278 64176\n"
     ]
    },
    {
     "name": "stderr",
     "output_type": "stream",
     "text": [
      "\n",
      " 47%|████▋     | 45/96 [50:02<29:44, 34.99s/it]\u001b[A"
     ]
    },
    {
     "name": "stdout",
     "output_type": "stream",
     "text": [
      "2344 220494\n"
     ]
    },
    {
     "name": "stderr",
     "output_type": "stream",
     "text": [
      "\n",
      " 48%|████▊     | 46/96 [52:27<56:41, 68.03s/it]\u001b[A"
     ]
    },
    {
     "name": "stdout",
     "output_type": "stream",
     "text": [
      "3751 404151\n"
     ]
    },
    {
     "name": "stderr",
     "output_type": "stream",
     "text": [
      "\n",
      " 49%|████▉     | 47/96 [52:41<42:16, 51.76s/it]\u001b[A"
     ]
    },
    {
     "name": "stdout",
     "output_type": "stream",
     "text": [
      "1173 245271\n"
     ]
    },
    {
     "name": "stderr",
     "output_type": "stream",
     "text": [
      "\n",
      " 50%|█████     | 48/96 [1:02:10<2:45:40, 207.10s/it]\u001b[A"
     ]
    },
    {
     "name": "stdout",
     "output_type": "stream",
     "text": [
      "9269 736863\n"
     ]
    },
    {
     "name": "stderr",
     "output_type": "stream",
     "text": [
      "\n",
      " 51%|█████     | 49/96 [1:03:52<2:17:26, 175.46s/it]\u001b[A"
     ]
    },
    {
     "name": "stdout",
     "output_type": "stream",
     "text": [
      "3536 416691\n"
     ]
    },
    {
     "name": "stderr",
     "output_type": "stream",
     "text": [
      "\n",
      " 52%|█████▏    | 50/96 [1:06:41<2:13:08, 173.65s/it]\u001b[A"
     ]
    },
    {
     "name": "stdout",
     "output_type": "stream",
     "text": [
      "5808 490445\n"
     ]
    },
    {
     "name": "stderr",
     "output_type": "stream",
     "text": [
      "\n",
      " 53%|█████▎    | 51/96 [1:06:53<1:33:45, 125.01s/it]\u001b[A"
     ]
    },
    {
     "name": "stdout",
     "output_type": "stream",
     "text": [
      "1438 181067\n"
     ]
    },
    {
     "name": "stderr",
     "output_type": "stream",
     "text": [
      "\n",
      " 54%|█████▍    | 52/96 [1:07:12<1:08:18, 93.14s/it] \u001b[A"
     ]
    },
    {
     "name": "stdout",
     "output_type": "stream",
     "text": [
      "1744 270188\n"
     ]
    },
    {
     "name": "stderr",
     "output_type": "stream",
     "text": [
      "\n",
      " 55%|█████▌    | 53/96 [1:07:40<52:50, 73.74s/it]  \u001b[A"
     ]
    },
    {
     "name": "stdout",
     "output_type": "stream",
     "text": [
      "2254 269697\n"
     ]
    },
    {
     "name": "stderr",
     "output_type": "stream",
     "text": [
      "\n",
      " 56%|█████▋    | 54/96 [1:09:10<54:59, 78.57s/it]\u001b[A"
     ]
    },
    {
     "name": "stdout",
     "output_type": "stream",
     "text": [
      "3995 445427\n"
     ]
    },
    {
     "name": "stderr",
     "output_type": "stream",
     "text": [
      "\n",
      " 57%|█████▋    | 55/96 [1:10:03<48:29, 70.97s/it]\u001b[A"
     ]
    },
    {
     "name": "stdout",
     "output_type": "stream",
     "text": [
      "2687 344891\n"
     ]
    },
    {
     "name": "stderr",
     "output_type": "stream",
     "text": [
      "\n",
      " 58%|█████▊    | 56/96 [1:10:06<33:38, 50.47s/it]\u001b[A"
     ]
    },
    {
     "name": "stdout",
     "output_type": "stream",
     "text": [
      "576 135445\n"
     ]
    },
    {
     "name": "stderr",
     "output_type": "stream",
     "text": [
      "\n",
      " 59%|█████▉    | 57/96 [1:13:08<58:27, 89.94s/it]\u001b[A"
     ]
    },
    {
     "name": "stdout",
     "output_type": "stream",
     "text": [
      "6076 552207\n"
     ]
    },
    {
     "name": "stderr",
     "output_type": "stream",
     "text": [
      "\n",
      " 60%|██████    | 58/96 [1:13:11<40:31, 64.00s/it]\u001b[A"
     ]
    },
    {
     "name": "stdout",
     "output_type": "stream",
     "text": [
      "512 174264\n"
     ]
    },
    {
     "name": "stderr",
     "output_type": "stream",
     "text": [
      "\n",
      " 61%|██████▏   | 59/96 [1:15:12<50:00, 81.10s/it]\u001b[A"
     ]
    },
    {
     "name": "stdout",
     "output_type": "stream",
     "text": [
      "3852 428552\n"
     ]
    },
    {
     "name": "stderr",
     "output_type": "stream",
     "text": [
      "\n",
      " 62%|██████▎   | 60/96 [1:15:19<35:09, 58.61s/it]\u001b[A"
     ]
    },
    {
     "name": "stdout",
     "output_type": "stream",
     "text": [
      "586 215048\n"
     ]
    },
    {
     "name": "stderr",
     "output_type": "stream",
     "text": [
      "\n",
      " 64%|██████▎   | 61/96 [1:16:59<41:30, 71.15s/it]\u001b[A"
     ]
    },
    {
     "name": "stdout",
     "output_type": "stream",
     "text": [
      "4017 360990\n",
      "25 4612\n"
     ]
    },
    {
     "name": "stderr",
     "output_type": "stream",
     "text": [
      "\n",
      " 66%|██████▌   | 63/96 [1:17:04<27:47, 50.52s/it]\u001b[A"
     ]
    },
    {
     "name": "stdout",
     "output_type": "stream",
     "text": [
      "690 188420\n"
     ]
    },
    {
     "name": "stderr",
     "output_type": "stream",
     "text": [
      "\n",
      " 67%|██████▋   | 64/96 [1:17:20<21:28, 40.26s/it]\u001b[A"
     ]
    },
    {
     "name": "stdout",
     "output_type": "stream",
     "text": [
      "1780 258318\n"
     ]
    },
    {
     "name": "stderr",
     "output_type": "stream",
     "text": [
      "\n",
      " 68%|██████▊   | 65/96 [1:17:29<15:54, 30.80s/it]\u001b[A"
     ]
    },
    {
     "name": "stdout",
     "output_type": "stream",
     "text": [
      "657 212161\n"
     ]
    },
    {
     "name": "stderr",
     "output_type": "stream",
     "text": [
      "\n",
      " 69%|██████▉   | 66/96 [1:17:44<12:59, 25.99s/it]\u001b[A"
     ]
    },
    {
     "name": "stdout",
     "output_type": "stream",
     "text": [
      "1544 265622\n"
     ]
    },
    {
     "name": "stderr",
     "output_type": "stream",
     "text": [
      "\n",
      " 70%|██████▉   | 67/96 [1:17:51<09:51, 20.39s/it]\u001b[A"
     ]
    },
    {
     "name": "stdout",
     "output_type": "stream",
     "text": [
      "969 171505\n",
      "72 37321\n"
     ]
    },
    {
     "name": "stderr",
     "output_type": "stream",
     "text": [
      "\n",
      " 72%|███████▏  | 69/96 [1:18:43<09:58, 22.16s/it]\u001b[A"
     ]
    },
    {
     "name": "stdout",
     "output_type": "stream",
     "text": [
      "2790 345494\n"
     ]
    },
    {
     "name": "stderr",
     "output_type": "stream",
     "text": [
      "\n",
      " 73%|███████▎  | 70/96 [1:20:02<16:58, 39.17s/it]\u001b[A"
     ]
    },
    {
     "name": "stdout",
     "output_type": "stream",
     "text": [
      "3782 364884\n"
     ]
    },
    {
     "name": "stderr",
     "output_type": "stream",
     "text": [
      "\n",
      " 74%|███████▍  | 71/96 [1:21:33<22:46, 54.66s/it]\u001b[A"
     ]
    },
    {
     "name": "stdout",
     "output_type": "stream",
     "text": [
      "3271 451084\n"
     ]
    },
    {
     "name": "stderr",
     "output_type": "stream",
     "text": [
      "\n",
      " 75%|███████▌  | 72/96 [1:21:37<15:45, 39.38s/it]\u001b[A"
     ]
    },
    {
     "name": "stdout",
     "output_type": "stream",
     "text": [
      "641 103048\n"
     ]
    },
    {
     "name": "stderr",
     "output_type": "stream",
     "text": [
      "\n",
      " 76%|███████▌  | 73/96 [1:22:00<13:13, 34.49s/it]\u001b[A"
     ]
    },
    {
     "name": "stdout",
     "output_type": "stream",
     "text": [
      "1705 229935\n"
     ]
    },
    {
     "name": "stderr",
     "output_type": "stream",
     "text": [
      "\n",
      " 77%|███████▋  | 74/96 [1:23:31<18:51, 51.43s/it]\u001b[A"
     ]
    },
    {
     "name": "stdout",
     "output_type": "stream",
     "text": [
      "3098 396754\n"
     ]
    },
    {
     "name": "stderr",
     "output_type": "stream",
     "text": [
      "\n",
      " 78%|███████▊  | 75/96 [1:24:09<16:35, 47.40s/it]\u001b[A"
     ]
    },
    {
     "name": "stdout",
     "output_type": "stream",
     "text": [
      "2080 307339\n"
     ]
    },
    {
     "name": "stderr",
     "output_type": "stream",
     "text": [
      "\n",
      " 79%|███████▉  | 76/96 [1:24:28<12:59, 38.95s/it]\u001b[A"
     ]
    },
    {
     "name": "stdout",
     "output_type": "stream",
     "text": [
      "1681 244302\n"
     ]
    },
    {
     "name": "stderr",
     "output_type": "stream",
     "text": [
      "\n",
      " 80%|████████  | 77/96 [1:24:40<09:46, 30.89s/it]\u001b[A"
     ]
    },
    {
     "name": "stdout",
     "output_type": "stream",
     "text": [
      "727 251858\n"
     ]
    },
    {
     "name": "stderr",
     "output_type": "stream",
     "text": [
      "\n",
      " 81%|████████▏ | 78/96 [1:26:24<15:49, 52.77s/it]\u001b[A"
     ]
    },
    {
     "name": "stdout",
     "output_type": "stream",
     "text": [
      "4172 492261\n"
     ]
    },
    {
     "name": "stderr",
     "output_type": "stream",
     "text": [
      "\n",
      " 82%|████████▏ | 79/96 [1:26:26<10:38, 37.56s/it]\u001b[A"
     ]
    },
    {
     "name": "stdout",
     "output_type": "stream",
     "text": [
      "784 112936\n"
     ]
    },
    {
     "name": "stderr",
     "output_type": "stream",
     "text": [
      "\n",
      " 83%|████████▎ | 80/96 [1:28:41<17:49, 66.83s/it]\u001b[A"
     ]
    },
    {
     "name": "stdout",
     "output_type": "stream",
     "text": [
      "5883 414083\n"
     ]
    },
    {
     "name": "stderr",
     "output_type": "stream",
     "text": [
      "\n",
      " 84%|████████▍ | 81/96 [1:28:45<12:00, 48.00s/it]\u001b[A"
     ]
    },
    {
     "name": "stdout",
     "output_type": "stream",
     "text": [
      "891 130795\n"
     ]
    },
    {
     "name": "stderr",
     "output_type": "stream",
     "text": [
      "\n",
      " 85%|████████▌ | 82/96 [1:28:47<07:59, 34.24s/it]\u001b[A"
     ]
    },
    {
     "name": "stdout",
     "output_type": "stream",
     "text": [
      "679 105394\n"
     ]
    },
    {
     "name": "stderr",
     "output_type": "stream",
     "text": [
      "\n",
      " 86%|████████▋ | 83/96 [1:32:39<20:13, 93.37s/it]\u001b[A"
     ]
    },
    {
     "name": "stdout",
     "output_type": "stream",
     "text": [
      "6086 502508\n"
     ]
    },
    {
     "name": "stderr",
     "output_type": "stream",
     "text": [
      "\n",
      " 88%|████████▊ | 84/96 [1:36:43<27:44, 138.71s/it]\u001b[A"
     ]
    },
    {
     "name": "stdout",
     "output_type": "stream",
     "text": [
      "8077 503422\n",
      "195 16232\n"
     ]
    },
    {
     "name": "stderr",
     "output_type": "stream",
     "text": [
      "\n",
      " 90%|████████▉ | 86/96 [1:39:10<19:50, 119.04s/it]\u001b[A"
     ]
    },
    {
     "name": "stdout",
     "output_type": "stream",
     "text": [
      "3018 390709\n"
     ]
    },
    {
     "name": "stderr",
     "output_type": "stream",
     "text": [
      "\n",
      " 91%|█████████ | 87/96 [1:39:14<12:42, 84.68s/it] \u001b[A"
     ]
    },
    {
     "name": "stdout",
     "output_type": "stream",
     "text": [
      "630 123660\n"
     ]
    },
    {
     "name": "stderr",
     "output_type": "stream",
     "text": [
      "\n",
      " 92%|█████████▏| 88/96 [1:39:58<09:38, 72.36s/it]\u001b[A"
     ]
    },
    {
     "name": "stdout",
     "output_type": "stream",
     "text": [
      "2944 326539\n"
     ]
    },
    {
     "name": "stderr",
     "output_type": "stream",
     "text": [
      "\n",
      " 93%|█████████▎| 89/96 [1:42:30<11:14, 96.30s/it]\u001b[A"
     ]
    },
    {
     "name": "stdout",
     "output_type": "stream",
     "text": [
      "4345 552592\n"
     ]
    },
    {
     "name": "stderr",
     "output_type": "stream",
     "text": [
      "\n",
      " 94%|█████████▍| 90/96 [1:43:16<08:08, 81.36s/it]\u001b[A"
     ]
    },
    {
     "name": "stdout",
     "output_type": "stream",
     "text": [
      "2075 358594\n"
     ]
    },
    {
     "name": "stderr",
     "output_type": "stream",
     "text": [
      "\n",
      " 95%|█████████▍| 91/96 [1:46:37<09:45, 117.15s/it]\u001b[A"
     ]
    },
    {
     "name": "stdout",
     "output_type": "stream",
     "text": [
      "5000 582153\n",
      "66 16845\n"
     ]
    },
    {
     "name": "stderr",
     "output_type": "stream",
     "text": [
      "\n",
      " 97%|█████████▋| 93/96 [1:47:25<04:27, 89.16s/it] \u001b[A"
     ]
    },
    {
     "name": "stdout",
     "output_type": "stream",
     "text": [
      "2476 323151\n"
     ]
    },
    {
     "name": "stderr",
     "output_type": "stream",
     "text": [
      "\n",
      " 98%|█████████▊| 94/96 [1:47:26<02:05, 62.88s/it]\u001b[A"
     ]
    },
    {
     "name": "stdout",
     "output_type": "stream",
     "text": [
      "390 117176\n"
     ]
    },
    {
     "name": "stderr",
     "output_type": "stream",
     "text": [
      "\n",
      " 99%|█████████▉| 95/96 [1:47:29<00:44, 44.93s/it]\u001b[A"
     ]
    },
    {
     "name": "stdout",
     "output_type": "stream",
     "text": [
      "828 142606\n"
     ]
    },
    {
     "name": "stderr",
     "output_type": "stream",
     "text": [
      "\n",
      "100%|██████████| 96/96 [1:47:33<00:00, 67.23s/it]\u001b[A"
     ]
    },
    {
     "name": "stdout",
     "output_type": "stream",
     "text": [
      "811 110999\n"
     ]
    },
    {
     "name": "stderr",
     "output_type": "stream",
     "text": [
      "\n"
     ]
    }
   ],
   "source": [
    "potentially_cited_authors_o1 = {id: set() for id in ids}\n",
    "potentially_cited_authors_o2 = {id: set() for id in ids}\n",
    "for id in tqdm(ids):\n",
    "    for author in paper_authors[id]:\n",
    "        if author in first_order_author_dicts:\n",
    "            potentially_cited_authors_o2[id] = potentially_cited_authors_o2[id].union(first_order_author_dicts[author])\n",
    "            potentially_cited_authors_o1[id] = potentially_cited_authors_o1[id].union(first_order_author_dicts[author])\n",
    "\n",
    "            for c_author in first_order_author_dicts[author]:\n",
    "                if c_author in first_order_author_dicts:\n",
    "                    potentially_cited_authors_o2[id] = potentially_cited_authors_o2[id].union(first_order_author_dicts[c_author])\n",
    "    \n",
    "    print(len(potentially_cited_authors_o1[id]), len(potentially_cited_authors_o2[id]))"
   ]
  },
  {
   "cell_type": "code",
   "execution_count": 8,
   "metadata": {},
   "outputs": [],
   "source": [
    "dump_json('p_o1.json', {i:list(potentially_cited_authors_o1[i]) for i in potentially_cited_authors_o1})\n",
    "dump_json('p_o2.json', {i:list(potentially_cited_authors_o2[i]) for i in potentially_cited_authors_o2})"
   ]
  },
  {
   "cell_type": "code",
   "execution_count": 4,
   "metadata": {},
   "outputs": [],
   "source": [
    "ids = [i for i in ids if i not in ['1992078202', '2004111797', '1551676982', '2163666621', '1575030031']]\n",
    "potentially_cited_authors_o1 = load_json('p_o1.json')\n",
    "potentially_cited_authors_o2 = load_json('p_o2.json')"
   ]
  },
  {
   "cell_type": "code",
   "execution_count": 5,
   "metadata": {},
   "outputs": [
    {
     "data": {
      "text/plain": [
       "(2338.2916666666665, 286357.7083333333)"
      ]
     },
     "execution_count": 5,
     "metadata": {},
     "output_type": "execute_result"
    }
   ],
   "source": [
    "sum(len(potentially_cited_authors_o1[i]) for i in ids) / len(ids), sum(len(potentially_cited_authors_o2[i]) for i in ids) / len(ids)"
   ]
  },
  {
   "cell_type": "code",
   "execution_count": 6,
   "metadata": {
    "scrolled": true
   },
   "outputs": [
    {
     "name": "stderr",
     "output_type": "stream",
     "text": [
      "100%|██████████| 4107340/4107340 [00:21<00:00, 191520.07it/s]\n"
     ]
    }
   ],
   "source": [
    "author_to_paper = {}\n",
    "for paper in tqdm(paper_authors):\n",
    "    for author in paper_authors[paper]:\n",
    "        if author not in author_to_paper:\n",
    "            author_to_paper[author] = []\n",
    "        \n",
    "        author_to_paper[author] += [paper]"
   ]
  },
  {
   "cell_type": "code",
   "execution_count": 8,
   "metadata": {
    "scrolled": true
   },
   "outputs": [
    {
     "name": "stderr",
     "output_type": "stream",
     "text": [
      "\n",
      "  0%|          | 0/96 [00:00<?, ?it/s]\u001b[A\n",
      "  1%|          | 1/96 [00:02<03:39,  2.31s/it]\u001b[A\n",
      "  2%|▏         | 2/96 [00:03<03:18,  2.11s/it]\u001b[A\n",
      "  3%|▎         | 3/96 [00:04<02:26,  1.57s/it]\u001b[A\n",
      "  5%|▌         | 5/96 [00:04<01:41,  1.12s/it]\u001b[A\n",
      "  6%|▋         | 6/96 [00:04<01:19,  1.13it/s]\u001b[A\n",
      "  7%|▋         | 7/96 [00:22<08:36,  5.80s/it]\u001b[A\n",
      "  8%|▊         | 8/96 [00:25<07:29,  5.11s/it]\u001b[A\n",
      "  9%|▉         | 9/96 [00:26<05:34,  3.84s/it]\u001b[A\n",
      " 10%|█         | 10/96 [00:34<07:23,  5.15s/it]\u001b[A\n",
      " 11%|█▏        | 11/96 [00:34<05:12,  3.68s/it]\u001b[A\n",
      " 12%|█▎        | 12/96 [00:40<06:03,  4.33s/it]\u001b[A\n",
      " 14%|█▎        | 13/96 [00:45<06:02,  4.36s/it]\u001b[A\n",
      " 15%|█▍        | 14/96 [00:45<04:21,  3.19s/it]\u001b[A\n",
      " 16%|█▌        | 15/96 [00:48<04:12,  3.12s/it]\u001b[A\n",
      " 18%|█▊        | 17/96 [00:57<04:44,  3.60s/it]\u001b[A\n",
      " 19%|█▉        | 18/96 [00:58<03:29,  2.69s/it]\u001b[A\n",
      " 20%|█▉        | 19/96 [00:59<02:54,  2.26s/it]\u001b[A\n",
      " 21%|██        | 20/96 [01:02<03:01,  2.39s/it]\u001b[A\n",
      " 22%|██▏       | 21/96 [01:59<23:26, 18.75s/it]\u001b[A\n",
      " 23%|██▎       | 22/96 [02:06<18:40, 15.14s/it]\u001b[A\n",
      " 24%|██▍       | 23/96 [02:15<16:12, 13.33s/it]\u001b[A\n",
      " 25%|██▌       | 24/96 [04:05<50:56, 42.45s/it]\u001b[A\n",
      " 26%|██▌       | 25/96 [04:08<36:06, 30.52s/it]\u001b[A\n",
      " 28%|██▊       | 27/96 [04:15<25:47, 22.42s/it]\u001b[A\n",
      " 29%|██▉       | 28/96 [04:16<18:02, 15.91s/it]\u001b[A\n",
      " 30%|███       | 29/96 [04:17<12:51, 11.51s/it]\u001b[A\n",
      " 31%|███▏      | 30/96 [04:53<20:57, 19.05s/it]\u001b[A\n",
      " 32%|███▏      | 31/96 [04:57<15:40, 14.47s/it]\u001b[A\n",
      " 33%|███▎      | 32/96 [05:03<12:43, 11.93s/it]\u001b[A\n",
      " 34%|███▍      | 33/96 [05:08<10:19,  9.83s/it]\u001b[A\n",
      " 35%|███▌      | 34/96 [05:15<09:10,  8.88s/it]\u001b[A\n",
      " 36%|███▋      | 35/96 [06:23<26:59, 26.55s/it]\u001b[A\n",
      " 38%|███▊      | 36/96 [06:42<24:31, 24.52s/it]\u001b[A\n",
      " 39%|███▊      | 37/96 [06:44<17:25, 17.71s/it]\u001b[A\n",
      " 40%|███▉      | 38/96 [06:45<12:16, 12.70s/it]\u001b[A\n",
      " 41%|████      | 39/96 [06:48<09:20,  9.84s/it]\u001b[A\n",
      " 42%|████▏     | 40/96 [06:57<08:54,  9.54s/it]\u001b[A\n",
      " 43%|████▎     | 41/96 [07:00<06:58,  7.62s/it]\u001b[A\n",
      " 44%|████▍     | 42/96 [07:43<16:13, 18.02s/it]\u001b[A\n",
      " 45%|████▍     | 43/96 [07:55<14:28, 16.39s/it]\u001b[A\n",
      " 46%|████▌     | 44/96 [08:10<13:53, 16.04s/it]\u001b[A\n",
      " 47%|████▋     | 45/96 [08:11<09:40, 11.39s/it]\u001b[A\n",
      " 48%|████▊     | 46/96 [08:18<08:23, 10.07s/it]\u001b[A\n",
      " 49%|████▉     | 47/96 [08:18<05:49,  7.13s/it]\u001b[A\n",
      " 51%|█████     | 49/96 [08:20<04:08,  5.29s/it]\u001b[A\n",
      " 52%|█████▏    | 50/96 [08:21<02:57,  3.87s/it]\u001b[A\n",
      " 53%|█████▎    | 51/96 [08:42<06:48,  9.09s/it]\u001b[A\n",
      " 54%|█████▍    | 52/96 [09:03<09:11, 12.54s/it]\u001b[A\n",
      " 55%|█████▌    | 53/96 [09:29<12:02, 16.80s/it]\u001b[A\n",
      " 56%|█████▋    | 54/96 [09:43<11:02, 15.77s/it]\u001b[A\n",
      " 57%|█████▋    | 55/96 [09:43<07:38, 11.19s/it]\u001b[A\n",
      " 58%|█████▊    | 56/96 [10:47<17:56, 26.92s/it]\u001b[A\n",
      " 59%|█████▉    | 57/96 [10:57<14:12, 21.87s/it]\u001b[A\n",
      " 60%|██████    | 58/96 [10:58<09:53, 15.61s/it]\u001b[A\n",
      " 62%|██████▎   | 60/96 [10:59<06:36, 11.02s/it]\u001b[A\n",
      " 64%|██████▎   | 61/96 [10:59<04:34,  7.86s/it]\u001b[A\n",
      " 65%|██████▍   | 62/96 [11:15<05:53, 10.38s/it]\u001b[A\n",
      " 66%|██████▌   | 63/96 [11:21<04:51,  8.84s/it]\u001b[A\n",
      " 67%|██████▋   | 64/96 [11:47<07:32, 14.13s/it]\u001b[A\n",
      " 68%|██████▊   | 65/96 [12:02<07:22, 14.26s/it]\u001b[A\n",
      " 69%|██████▉   | 66/96 [12:03<05:09, 10.32s/it]\u001b[A\n",
      " 70%|██████▉   | 67/96 [12:07<04:05,  8.46s/it]\u001b[A\n",
      " 71%|███████   | 68/96 [13:08<11:15, 24.13s/it]\u001b[A\n",
      " 72%|███████▏  | 69/96 [13:41<12:07, 26.96s/it]\u001b[A\n",
      " 73%|███████▎  | 70/96 [13:42<08:15, 19.06s/it]\u001b[A\n",
      " 74%|███████▍  | 71/96 [14:11<09:14, 22.18s/it]\u001b[A\n",
      " 75%|███████▌  | 72/96 [14:14<06:32, 16.34s/it]\u001b[A\n",
      " 77%|███████▋  | 74/96 [15:42<09:02, 24.68s/it]\u001b[A\n",
      " 78%|███████▊  | 75/96 [15:45<06:23, 18.26s/it]\u001b[A\n",
      " 79%|███████▉  | 76/96 [15:46<04:17, 12.86s/it]\u001b[A\n",
      " 81%|████████▏ | 78/96 [15:46<02:43,  9.07s/it]\u001b[A\n",
      " 82%|████████▏ | 79/96 [15:51<02:14,  7.93s/it]\u001b[A\n",
      " 84%|████████▍ | 81/96 [15:58<01:37,  6.49s/it]\u001b[A\n",
      " 85%|████████▌ | 82/96 [16:48<04:32, 19.49s/it]\u001b[A\n",
      " 86%|████████▋ | 83/96 [16:49<03:04, 14.17s/it]\u001b[A\n",
      " 88%|████████▊ | 84/96 [16:50<02:00, 10.04s/it]\u001b[A\n",
      " 89%|████████▊ | 85/96 [16:50<01:18,  7.16s/it]\u001b[A\n",
      " 90%|████████▉ | 86/96 [16:56<01:08,  6.82s/it]\u001b[A\n",
      " 92%|█████████▏| 88/96 [17:04<00:47,  5.90s/it]\u001b[A\n",
      " 93%|█████████▎| 89/96 [17:05<00:30,  4.40s/it]\u001b[A\n",
      " 94%|█████████▍| 90/96 [17:06<00:21,  3.59s/it]\u001b[A\n",
      " 95%|█████████▍| 91/96 [17:19<00:31,  6.35s/it]\u001b[A\n",
      " 96%|█████████▌| 92/96 [18:41<01:55, 28.94s/it]\u001b[A\n",
      " 97%|█████████▋| 93/96 [19:25<01:40, 33.58s/it]\u001b[A\n",
      " 98%|█████████▊| 94/96 [19:26<00:47, 23.74s/it]\u001b[A\n",
      " 99%|█████████▉| 95/96 [19:26<00:16, 16.79s/it]\u001b[A\n",
      "100%|██████████| 96/96 [19:27<00:00, 12.16s/it]\u001b[A\n"
     ]
    }
   ],
   "source": [
    "potentially_cited_authors_for_id = potentially_cited_authors_o1\n",
    "potential_citations = {id: set() for id in ids}\n",
    "for id in tqdm(potentially_cited_authors_for_id):\n",
    "    for author in potentially_cited_authors_for_id[id]:\n",
    "        if author in author_to_paper:\n",
    "            potential_citations[id] = potential_citations[id].union(author_to_paper[author])"
   ]
  },
  {
   "cell_type": "code",
   "execution_count": 42,
   "metadata": {},
   "outputs": [
    {
     "data": {
      "text/plain": [
       "4034.3069306930693"
      ]
     },
     "execution_count": 42,
     "metadata": {},
     "output_type": "execute_result"
    }
   ],
   "source": [
    "sum(len(potential_citations[id]) for id in ids) / len(potential_citations)"
   ]
  },
  {
   "cell_type": "code",
   "execution_count": 9,
   "metadata": {},
   "outputs": [
    {
     "data": {
      "text/plain": [
       "95259.72916666667"
      ]
     },
     "execution_count": 9,
     "metadata": {},
     "output_type": "execute_result"
    }
   ],
   "source": [
    "sum(len(potential_citations[id]) for id in ids) / len(potential_citations)"
   ]
  },
  {
   "cell_type": "code",
   "execution_count": null,
   "metadata": {},
   "outputs": [],
   "source": [
    "potentially_cited_authors_for_id = {id: set() for id in ids}\n",
    "for id in ids:\n",
    "    for author in paper_authors[id]:\n",
    "        if author in first_order_author_dicts:\n",
    "            potentially_cited_authors_for_id[id] = potentially_cited_authors_for_id[id].union(first_order_author_dicts[author])"
   ]
  },
  {
   "cell_type": "code",
   "execution_count": 10,
   "metadata": {},
   "outputs": [],
   "source": [
    "from aminer.recall.query_es import get_abstract_by_pids, get_references_by_pid\n",
    "\n",
    "test_recs = {}\n",
    "for id in ids:\n",
    "    test_recs[id] = get_references_by_pid(id)"
   ]
  },
  {
   "cell_type": "code",
   "execution_count": 11,
   "metadata": {},
   "outputs": [
    {
     "name": "stderr",
     "output_type": "stream",
     "text": [
      "\n",
      "100%|██████████| 96/96 [00:00<00:00, 11221.59it/s]"
     ]
    },
    {
     "name": "stdout",
     "output_type": "stream",
     "text": [
      "0.7083333333333334\n",
      "0.717948717948718\n",
      "0.36363636363636365\n",
      "0.9166666666666666\n",
      "0.95\n",
      "1.0\n",
      "0.8\n",
      "0.9069767441860465\n",
      "1.0\n",
      "0.9493670886075949\n",
      "0.8571428571428571\n",
      "0.96\n",
      "0.4230769230769231\n",
      "1.0\n",
      "0.5714285714285714\n",
      "0.9090909090909091\n",
      "0.9629629629629629\n",
      "0.9\n",
      "0.9302325581395349\n",
      "0.64\n",
      "0.9523809523809523\n",
      "1.0\n",
      "0.8928571428571429\n",
      "0.9166666666666666\n",
      "1.0\n",
      "0.7021276595744681\n",
      "0.6818181818181818\n",
      "1.0\n",
      "1.0\n",
      "0.8095238095238095\n",
      "0.9615384615384616\n",
      "0.9\n",
      "0.8620689655172413\n",
      "0.9111111111111111\n",
      "0.6153846153846154\n",
      "0.9047619047619048\n",
      "0.5909090909090909\n",
      "0.8636363636363636\n",
      "0.8823529411764706\n",
      "0.5714285714285714\n",
      "0.7096774193548387\n",
      "0.8205128205128205\n",
      "0.2608695652173913\n",
      "0.9512195121951219\n",
      "0.8620689655172413\n",
      "1.0\n",
      "0.9090909090909091\n",
      "0.7407407407407407\n",
      "0.4166666666666667\n",
      "0.8125\n",
      "0.9565217391304348\n",
      "0.55\n",
      "0.65625\n",
      "0.9545454545454546\n",
      "0.9666666666666667\n",
      "0.9583333333333334\n",
      "0.825\n",
      "0.7727272727272727\n",
      "0.9090909090909091\n",
      "0.8260869565217391\n",
      "0.9\n",
      "0.975\n",
      "0.5185185185185185\n",
      "0.9629629629629629\n",
      "0.9705882352941176\n",
      "0.18181818181818182\n",
      "0.9714285714285714\n",
      "0.9047619047619048\n",
      "0.8205128205128205\n",
      "0.8695652173913043\n",
      "0.4857142857142857\n",
      "0.34782608695652173\n",
      "1.0\n",
      "1.0\n",
      "0.975\n",
      "0.8636363636363636\n",
      "1.0\n",
      "1.0\n",
      "1.0\n",
      "1.0\n",
      "0.8846153846153846\n",
      "0.25\n",
      "0.9411764705882353\n",
      "0.6086956521739131\n",
      "0.0\n",
      "0.8\n",
      "0.8064516129032258\n",
      "0.9375\n",
      "0.5555555555555556\n",
      "1.0\n",
      "0.4411764705882353\n",
      "0.65\n",
      "0.8235294117647058\n",
      "1.0\n",
      "1.0\n",
      "0.03225806451612903\n"
     ]
    },
    {
     "name": "stderr",
     "output_type": "stream",
     "text": [
      "\n"
     ]
    }
   ],
   "source": [
    "overall = 0\n",
    "for id in tqdm(ids):\n",
    "    points = 0\n",
    "    for rec_id in test_recs[id]:\n",
    "        points += int(rec_id in potential_citations[id])\n",
    "    \n",
    "    overall += points / len(test_recs[id])\n",
    "    print(points / len(test_recs[id]))"
   ]
  },
  {
   "cell_type": "code",
   "execution_count": 12,
   "metadata": {},
   "outputs": [
    {
     "data": {
      "text/plain": [
       "76.82229083751801"
      ]
     },
     "execution_count": 12,
     "metadata": {},
     "output_type": "execute_result"
    }
   ],
   "source": [
    "overall"
   ]
  },
  {
   "cell_type": "code",
   "execution_count": null,
   "metadata": {},
   "outputs": [],
   "source": [
    "1"
   ]
  },
  {
   "cell_type": "code",
   "execution_count": 14,
   "metadata": {},
   "outputs": [],
   "source": [
    "dump_json('author_filtered_citations.json', {id:list(potential_citations[id]) for id in potential_citations})"
   ]
  },
  {
   "cell_type": "code",
   "execution_count": null,
   "metadata": {},
   "outputs": [],
   "source": []
  }
 ],
 "metadata": {
  "kernelspec": {
   "display_name": "Python 3",
   "language": "python",
   "name": "python3"
  },
  "language_info": {
   "codemirror_mode": {
    "name": "ipython",
    "version": 3
   },
   "file_extension": ".py",
   "mimetype": "text/x-python",
   "name": "python",
   "nbconvert_exporter": "python",
   "pygments_lexer": "ipython3",
   "version": "3.5.5"
  }
 },
 "nbformat": 4,
 "nbformat_minor": 2
}
