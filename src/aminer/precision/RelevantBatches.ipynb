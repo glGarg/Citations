{
 "cells": [
  {
   "cell_type": "code",
   "execution_count": 1,
   "metadata": {},
   "outputs": [],
   "source": [
    "import json\n",
    "import os\n",
    "\n",
    "from tqdm import tqdm"
   ]
  },
  {
   "cell_type": "code",
   "execution_count": 6,
   "metadata": {},
   "outputs": [],
   "source": [
    "def load_json(filename):\n",
    "    d = None\n",
    "    with open(filename) as file:\n",
    "        d = json.load(file)\n",
    "    \n",
    "    return d\n",
    "\n",
    "def dump_json(filename, d):\n",
    "    with open(filename, 'w') as file:\n",
    "        json.dump(d, file)"
   ]
  },
  {
   "cell_type": "code",
   "execution_count": 5,
   "metadata": {},
   "outputs": [
    {
     "name": "stderr",
     "output_type": "stream",
     "text": [
      "100%|██████████| 411/411 [02:17<00:00,  2.98it/s]\n"
     ]
    }
   ],
   "source": [
    "dir = 'word2vec_100_abstract_dictionaries'\n",
    "id_batch = {}\n",
    "for filename in tqdm(os.listdir(dir)):\n",
    "    filepath = os.path.join(dir, filename)\n",
    "    i = int(filename.split('_')[-1].split('.')[0])\n",
    "    batch = load_json(filepath)\n",
    "    for id in batch:\n",
    "        id_batch[id] = i"
   ]
  },
  {
   "cell_type": "code",
   "execution_count": null,
   "metadata": {},
   "outputs": [],
   "source": [
    "dump_json('id_batch.json', id_batch)"
   ]
  },
  {
   "cell_type": "code",
   "execution_count": 12,
   "metadata": {},
   "outputs": [],
   "source": [
    "fos = load_json('fos_author_filtered.json')"
   ]
  },
  {
   "cell_type": "code",
   "execution_count": 13,
   "metadata": {},
   "outputs": [
    {
     "name": "stderr",
     "output_type": "stream",
     "text": [
      "100%|██████████| 101/101 [00:02<00:00, 39.18it/s]\n"
     ]
    }
   ],
   "source": [
    "relevant_batches = {id: set() for id in fos}\n",
    "for id in tqdm(fos):\n",
    "    for cid in fos[id]:\n",
    "        relevant_batches[id].add(id_batch[cid])"
   ]
  },
  {
   "cell_type": "code",
   "execution_count": 16,
   "metadata": {},
   "outputs": [
    {
     "data": {
      "text/plain": [
       "[411,\n",
       " 261,\n",
       " 411,\n",
       " 411,\n",
       " 411,\n",
       " 411,\n",
       " 411,\n",
       " 411,\n",
       " 411,\n",
       " 411,\n",
       " 411,\n",
       " 402,\n",
       " 411,\n",
       " 411,\n",
       " 411,\n",
       " 411,\n",
       " 411,\n",
       " 411,\n",
       " 411,\n",
       " 411,\n",
       " 397,\n",
       " 411,\n",
       " 411,\n",
       " 411,\n",
       " 411,\n",
       " 411,\n",
       " 411,\n",
       " 411,\n",
       " 411,\n",
       " 411,\n",
       " 411,\n",
       " 411,\n",
       " 411,\n",
       " 411,\n",
       " 411,\n",
       " 411,\n",
       " 411,\n",
       " 411,\n",
       " 411,\n",
       " 411,\n",
       " 411,\n",
       " 411,\n",
       " 411,\n",
       " 395,\n",
       " 411,\n",
       " 411,\n",
       " 411,\n",
       " 411,\n",
       " 411,\n",
       " 411,\n",
       " 411,\n",
       " 411,\n",
       " 411,\n",
       " 411,\n",
       " 411,\n",
       " 411,\n",
       " 411,\n",
       " 411,\n",
       " 411,\n",
       " 411,\n",
       " 411,\n",
       " 410,\n",
       " 411,\n",
       " 411,\n",
       " 411,\n",
       " 411,\n",
       " 411,\n",
       " 411,\n",
       " 411,\n",
       " 411,\n",
       " 411,\n",
       " 411,\n",
       " 411,\n",
       " 411,\n",
       " 411,\n",
       " 411,\n",
       " 411,\n",
       " 411,\n",
       " 411,\n",
       " 411,\n",
       " 411,\n",
       " 411,\n",
       " 411,\n",
       " 411,\n",
       " 411,\n",
       " 411,\n",
       " 411,\n",
       " 411,\n",
       " 411,\n",
       " 411,\n",
       " 411,\n",
       " 411,\n",
       " 411,\n",
       " 411,\n",
       " 392,\n",
       " 411,\n",
       " 339,\n",
       " 411,\n",
       " 411,\n",
       " 411,\n",
       " 411]"
      ]
     },
     "execution_count": 16,
     "metadata": {},
     "output_type": "execute_result"
    }
   ],
   "source": [
    "[len(relevant_batches[id]) for id in fos]"
   ]
  },
  {
   "cell_type": "code",
   "execution_count": null,
   "metadata": {},
   "outputs": [],
   "source": []
  }
 ],
 "metadata": {
  "kernelspec": {
   "display_name": "ccf",
   "language": "python",
   "name": "ccf"
  },
  "language_info": {
   "codemirror_mode": {
    "name": "ipython",
    "version": 3
   },
   "file_extension": ".py",
   "mimetype": "text/x-python",
   "name": "python",
   "nbconvert_exporter": "python",
   "pygments_lexer": "ipython3",
   "version": "3.5.5"
  }
 },
 "nbformat": 4,
 "nbformat_minor": 2
}
